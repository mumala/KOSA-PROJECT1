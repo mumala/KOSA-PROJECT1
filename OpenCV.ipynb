{
 "cells": [
  {
   "cell_type": "markdown",
   "metadata": {
    "toc": true
   },
   "source": [
    "<h1>OpenCV<span class=\"tocSkip\"></span></h1>\n",
    "<div class=\"toc\"><ul class=\"toc-item\"><li><span><a href=\"#OpenCV\" data-toc-modified-id=\"OpenCV-1\"><span class=\"toc-item-num\">1&nbsp;&nbsp;</span>OpenCV</a></span><ul class=\"toc-item\"><li><span><a href=\"#이미지표현\" data-toc-modified-id=\"이미지표현-1.1\"><span class=\"toc-item-num\">1.1&nbsp;&nbsp;</span>이미지표현</a></span></li><li><span><a href=\"#OpenCV와-이미지-읽기\" data-toc-modified-id=\"OpenCV와-이미지-읽기-1.2\"><span class=\"toc-item-num\">1.2&nbsp;&nbsp;</span>OpenCV와 이미지 읽기</a></span></li><li><span><a href=\"#디지털-이미지와-컬러\" data-toc-modified-id=\"디지털-이미지와-컬러-1.3\"><span class=\"toc-item-num\">1.3&nbsp;&nbsp;</span>디지털 이미지와 컬러</a></span></li></ul></li><li><span><a href=\"#영상-기본-연산\" data-toc-modified-id=\"영상-기본-연산-2\"><span class=\"toc-item-num\">2&nbsp;&nbsp;</span>영상 기본 연산</a></span><ul class=\"toc-item\"><li><span><a href=\"#영상-기본-정보\" data-toc-modified-id=\"영상-기본-정보-2.1\"><span class=\"toc-item-num\">2.1&nbsp;&nbsp;</span>영상 기본 정보</a></span><ul class=\"toc-item\"><li><span><a href=\"#함수-만들기\" data-toc-modified-id=\"함수-만들기-2.1.1\"><span class=\"toc-item-num\">2.1.1&nbsp;&nbsp;</span>함수 만들기</a></span></li><li><span><a href=\"#ROI(Region-Of-Image)\" data-toc-modified-id=\"ROI(Region-Of-Image)-2.1.2\"><span class=\"toc-item-num\">2.1.2&nbsp;&nbsp;</span>ROI(Region Of Image)</a></span></li></ul></li><li><span><a href=\"#채널과-영상\" data-toc-modified-id=\"채널과-영상-2.2\"><span class=\"toc-item-num\">2.2&nbsp;&nbsp;</span>채널과 영상</a></span><ul class=\"toc-item\"><li><span><a href=\"#이미지채널\" data-toc-modified-id=\"이미지채널-2.2.1\"><span class=\"toc-item-num\">2.2.1&nbsp;&nbsp;</span>이미지채널</a></span></li><li><span><a href=\"#이미지-블렌딩(Blending)\" data-toc-modified-id=\"이미지-블렌딩(Blending)-2.2.2\"><span class=\"toc-item-num\">2.2.2&nbsp;&nbsp;</span>이미지 블렌딩(Blending)</a></span></li><li><span><a href=\"#비트연산\" data-toc-modified-id=\"비트연산-2.2.3\"><span class=\"toc-item-num\">2.2.3&nbsp;&nbsp;</span>비트연산</a></span></li><li><span><a href=\"#이미지-임계-처리\" data-toc-modified-id=\"이미지-임계-처리-2.2.4\"><span class=\"toc-item-num\">2.2.4&nbsp;&nbsp;</span>이미지 임계 처리</a></span></li></ul></li><li><span><a href=\"#히스토그램\" data-toc-modified-id=\"히스토그램-2.3\"><span class=\"toc-item-num\">2.3&nbsp;&nbsp;</span>히스토그램</a></span><ul class=\"toc-item\"><li><span><a href=\"#히스토그램\" data-toc-modified-id=\"히스토그램-2.3.1\"><span class=\"toc-item-num\">2.3.1&nbsp;&nbsp;</span>히스토그램</a></span></li><li><span><a href=\"#2D-히스토그램\" data-toc-modified-id=\"2D-히스토그램-2.3.2\"><span class=\"toc-item-num\">2.3.2&nbsp;&nbsp;</span>2D 히스토그램</a></span></li></ul></li></ul></li><li><span><a href=\"#기하-변환\" data-toc-modified-id=\"기하-변환-3\"><span class=\"toc-item-num\">3&nbsp;&nbsp;</span>기하 변환</a></span><ul class=\"toc-item\"><li><span><a href=\"#기하-변환\" data-toc-modified-id=\"기하-변환-3.1\"><span class=\"toc-item-num\">3.1&nbsp;&nbsp;</span>기하 변환</a></span></li><li><span><a href=\"#크기변경\" data-toc-modified-id=\"크기변경-3.2\"><span class=\"toc-item-num\">3.2&nbsp;&nbsp;</span>크기변경</a></span><ul class=\"toc-item\"><li><span><a href=\"#크기변경\" data-toc-modified-id=\"크기변경-3.2.1\"><span class=\"toc-item-num\">3.2.1&nbsp;&nbsp;</span>크기변경</a></span></li><li><span><a href=\"#최근방법\" data-toc-modified-id=\"최근방법-3.2.2\"><span class=\"toc-item-num\">3.2.2&nbsp;&nbsp;</span>최근방법</a></span></li><li><span><a href=\"#선형방법\" data-toc-modified-id=\"선형방법-3.2.3\"><span class=\"toc-item-num\">3.2.3&nbsp;&nbsp;</span>선형방법</a></span></li><li><span><a href=\"#maxpool2d\" data-toc-modified-id=\"maxpool2d-3.2.4\"><span class=\"toc-item-num\">3.2.4&nbsp;&nbsp;</span>maxpool2d</a></span></li></ul></li><li><span><a href=\"#회전\" data-toc-modified-id=\"회전-3.3\"><span class=\"toc-item-num\">3.3&nbsp;&nbsp;</span>회전</a></span><ul class=\"toc-item\"><li><span><a href=\"#회전\" data-toc-modified-id=\"회전-3.3.1\"><span class=\"toc-item-num\">3.3.1&nbsp;&nbsp;</span>회전</a></span></li><li><span><a href=\"#hole을-없애기-위해서\" data-toc-modified-id=\"hole을-없애기-위해서-3.3.2\"><span class=\"toc-item-num\">3.3.2&nbsp;&nbsp;</span>hole을 없애기 위해서</a></span></li></ul></li><li><span><a href=\"#Affine-변환\" data-toc-modified-id=\"Affine-변환-3.4\"><span class=\"toc-item-num\">3.4&nbsp;&nbsp;</span>Affine 변환</a></span><ul class=\"toc-item\"><li><span><a href=\"#Affine-변환\" data-toc-modified-id=\"Affine-변환-3.4.1\"><span class=\"toc-item-num\">3.4.1&nbsp;&nbsp;</span>Affine 변환</a></span></li></ul></li><li><span><a href=\"#Perspective-변환\" data-toc-modified-id=\"Perspective-변환-3.5\"><span class=\"toc-item-num\">3.5&nbsp;&nbsp;</span>Perspective 변환</a></span></li></ul></li><li><span><a href=\"#윤곽선-검출\" data-toc-modified-id=\"윤곽선-검출-4\"><span class=\"toc-item-num\">4&nbsp;&nbsp;</span>윤곽선 검출</a></span><ul class=\"toc-item\"><li><span><a href=\"#윤곽선-추출-필터\" data-toc-modified-id=\"윤곽선-추출-필터-4.1\"><span class=\"toc-item-num\">4.1&nbsp;&nbsp;</span>윤곽선 추출 필터</a></span><ul class=\"toc-item\"><li><span><a href=\"#샤픈-필터-예제\" data-toc-modified-id=\"샤픈-필터-예제-4.1.1\"><span class=\"toc-item-num\">4.1.1&nbsp;&nbsp;</span>샤픈 필터 예제</a></span></li></ul></li><li><span><a href=\"#윤곽선-추출-필터\" data-toc-modified-id=\"윤곽선-추출-필터-4.2\"><span class=\"toc-item-num\">4.2&nbsp;&nbsp;</span>윤곽선 추출 필터</a></span><ul class=\"toc-item\"><li><span><a href=\"#차분필터\" data-toc-modified-id=\"차분필터-4.2.1\"><span class=\"toc-item-num\">4.2.1&nbsp;&nbsp;</span>차분필터</a></span></li><li><span><a href=\"#로버츠-필터\" data-toc-modified-id=\"로버츠-필터-4.2.2\"><span class=\"toc-item-num\">4.2.2&nbsp;&nbsp;</span>로버츠 필터</a></span></li><li><span><a href=\"#프리위트-필터\" data-toc-modified-id=\"프리위트-필터-4.2.3\"><span class=\"toc-item-num\">4.2.3&nbsp;&nbsp;</span>프리위트 필터</a></span></li><li><span><a href=\"#소벨필터\" data-toc-modified-id=\"소벨필터-4.2.4\"><span class=\"toc-item-num\">4.2.4&nbsp;&nbsp;</span>소벨필터</a></span></li><li><span><a href=\"#라플라시안-필터\" data-toc-modified-id=\"라플라시안-필터-4.2.5\"><span class=\"toc-item-num\">4.2.5&nbsp;&nbsp;</span>라플라시안 필터</a></span></li><li><span><a href=\"#conv2D\" data-toc-modified-id=\"conv2D-4.2.6\"><span class=\"toc-item-num\">4.2.6&nbsp;&nbsp;</span>conv2D</a></span></li></ul></li><li><span><a href=\"#캐니엣지\" data-toc-modified-id=\"캐니엣지-4.3\"><span class=\"toc-item-num\">4.3&nbsp;&nbsp;</span>캐니엣지</a></span></li></ul></li><li><span><a href=\"#화질개선\" data-toc-modified-id=\"화질개선-5\"><span class=\"toc-item-num\">5&nbsp;&nbsp;</span>화질개선</a></span><ul class=\"toc-item\"><li><span><a href=\"#잡음제거\" data-toc-modified-id=\"잡음제거-5.1\"><span class=\"toc-item-num\">5.1&nbsp;&nbsp;</span>잡음제거</a></span><ul class=\"toc-item\"><li><span><a href=\"#이동평균법\" data-toc-modified-id=\"이동평균법-5.1.1\"><span class=\"toc-item-num\">5.1.1&nbsp;&nbsp;</span>이동평균법</a></span></li><li><span><a href=\"#메디안-필터\" data-toc-modified-id=\"메디안-필터-5.1.2\"><span class=\"toc-item-num\">5.1.2&nbsp;&nbsp;</span>메디안 필터</a></span></li><li><span><a href=\"#가우시안-필터\" data-toc-modified-id=\"가우시안-필터-5.1.3\"><span class=\"toc-item-num\">5.1.3&nbsp;&nbsp;</span>가우시안 필터</a></span></li><li><span><a href=\"#수축과-팽창\" data-toc-modified-id=\"수축과-팽창-5.1.4\"><span class=\"toc-item-num\">5.1.4&nbsp;&nbsp;</span>수축과 팽창</a></span></li><li><span><a href=\"#히스토그램과-밝기값-조절\" data-toc-modified-id=\"히스토그램과-밝기값-조절-5.1.5\"><span class=\"toc-item-num\">5.1.5&nbsp;&nbsp;</span>히스토그램과 밝기값 조절</a></span></li></ul></li><li><span><a href=\"#콘트라스트-강조\" data-toc-modified-id=\"콘트라스트-강조-5.2\"><span class=\"toc-item-num\">5.2&nbsp;&nbsp;</span>콘트라스트 강조</a></span><ul class=\"toc-item\"><li><span><a href=\"#콘트라스트-강조\" data-toc-modified-id=\"콘트라스트-강조-5.2.1\"><span class=\"toc-item-num\">5.2.1&nbsp;&nbsp;</span>콘트라스트 강조</a></span></li></ul></li><li><span><a href=\"#히스토그램-평활화\" data-toc-modified-id=\"히스토그램-평활화-5.3\"><span class=\"toc-item-num\">5.3&nbsp;&nbsp;</span>히스토그램 평활화</a></span><ul class=\"toc-item\"><li><span><a href=\"#히스토그램-평활화\" data-toc-modified-id=\"히스토그램-평활화-5.3.1\"><span class=\"toc-item-num\">5.3.1&nbsp;&nbsp;</span>히스토그램 평활화</a></span></li><li><span><a href=\"#Numpy를-이용한-히스토그램-평활화\" data-toc-modified-id=\"Numpy를-이용한-히스토그램-평활화-5.3.2\"><span class=\"toc-item-num\">5.3.2&nbsp;&nbsp;</span>Numpy를 이용한 히스토그램 평활화</a></span></li><li><span><a href=\"#cv2.equalizeHist()\" data-toc-modified-id=\"cv2.equalizeHist()-5.3.3\"><span class=\"toc-item-num\">5.3.3&nbsp;&nbsp;</span>cv2.equalizeHist()</a></span></li><li><span><a href=\"#히스토그램-평활화-전/후\" data-toc-modified-id=\"히스토그램-평활화-전/후-5.3.4\"><span class=\"toc-item-num\">5.3.4&nbsp;&nbsp;</span>히스토그램 평활화 전/후</a></span></li><li><span><a href=\"#CLAHE\" data-toc-modified-id=\"CLAHE-5.3.5\"><span class=\"toc-item-num\">5.3.5&nbsp;&nbsp;</span>CLAHE</a></span></li><li><span><a href=\"#히스토그램-평탄화\" data-toc-modified-id=\"히스토그램-평탄화-5.3.6\"><span class=\"toc-item-num\">5.3.6&nbsp;&nbsp;</span>히스토그램 평탄화</a></span></li></ul></li></ul></li><li><span><a href=\"#특징추출\" data-toc-modified-id=\"특징추출-6\"><span class=\"toc-item-num\">6&nbsp;&nbsp;</span>특징추출</a></span><ul class=\"toc-item\"><li><span><a href=\"#contour\" data-toc-modified-id=\"contour-6.1\"><span class=\"toc-item-num\">6.1&nbsp;&nbsp;</span>contour</a></span><ul class=\"toc-item\"><li><span><a href=\"#라벨링\" data-toc-modified-id=\"라벨링-6.1.1\"><span class=\"toc-item-num\">6.1.1&nbsp;&nbsp;</span>라벨링</a></span></li><li><span><a href=\"#cv2.connectedComponents()\" data-toc-modified-id=\"cv2.connectedComponents()-6.1.2\"><span class=\"toc-item-num\">6.1.2&nbsp;&nbsp;</span>cv2.connectedComponents()</a></span></li><li><span><a href=\"#면적과-중심-위치\" data-toc-modified-id=\"면적과-중심-위치-6.1.3\"><span class=\"toc-item-num\">6.1.3&nbsp;&nbsp;</span>면적과 중심 위치</a></span></li><li><span><a href=\"#주위-길이-계산\" data-toc-modified-id=\"주위-길이-계산-6.1.4\"><span class=\"toc-item-num\">6.1.4&nbsp;&nbsp;</span>주위 길이 계산</a></span></li><li><span><a href=\"#cv2.drawContours()\" data-toc-modified-id=\"cv2.drawContours()-6.1.5\"><span class=\"toc-item-num\">6.1.5&nbsp;&nbsp;</span>cv2.drawContours()</a></span></li><li><span><a href=\"#Moments\" data-toc-modified-id=\"Moments-6.1.6\"><span class=\"toc-item-num\">6.1.6&nbsp;&nbsp;</span>Moments</a></span></li><li><span><a href=\"#Contour-Approximation\" data-toc-modified-id=\"Contour-Approximation-6.1.7\"><span class=\"toc-item-num\">6.1.7&nbsp;&nbsp;</span>Contour Approximation</a></span></li></ul></li><li><span><a href=\"#Bounding-box\" data-toc-modified-id=\"Bounding-box-6.2\"><span class=\"toc-item-num\">6.2&nbsp;&nbsp;</span>Bounding box</a></span><ul class=\"toc-item\"><li><span><a href=\"#Bounding-Rectangle\" data-toc-modified-id=\"Bounding-Rectangle-6.2.1\"><span class=\"toc-item-num\">6.2.1&nbsp;&nbsp;</span>Bounding Rectangle</a></span></li><li><span><a href=\"#Rectangle,-Circle,-Ellipse\" data-toc-modified-id=\"Rectangle,-Circle,-Ellipse-6.2.2\"><span class=\"toc-item-num\">6.2.2&nbsp;&nbsp;</span>Rectangle, Circle, Ellipse</a></span></li><li><span><a href=\"#contour-property\" data-toc-modified-id=\"contour-property-6.2.3\"><span class=\"toc-item-num\">6.2.3&nbsp;&nbsp;</span>contour property</a></span></li></ul></li><li><span><a href=\"#Convex-Hull\" data-toc-modified-id=\"Convex-Hull-6.3\"><span class=\"toc-item-num\">6.3&nbsp;&nbsp;</span>Convex Hull</a></span><ul class=\"toc-item\"><li><span><a href=\"#Convex-Hull\" data-toc-modified-id=\"Convex-Hull-6.3.1\"><span class=\"toc-item-num\">6.3.1&nbsp;&nbsp;</span>Convex Hull</a></span></li><li><span><a href=\"#Cehcking-Convexity\" data-toc-modified-id=\"Cehcking-Convexity-6.3.2\"><span class=\"toc-item-num\">6.3.2&nbsp;&nbsp;</span>Cehcking Convexity</a></span></li></ul></li></ul></li></ul></div>"
   ]
  },
  {
   "cell_type": "markdown",
   "metadata": {},
   "source": [
    "# OpenCV"
   ]
  },
  {
   "cell_type": "markdown",
   "metadata": {},
   "source": [
    "## 이미지표현"
   ]
  },
  {
   "cell_type": "code",
   "execution_count": null,
   "metadata": {},
   "outputs": [],
   "source": [
    "import  cv2"
   ]
  },
  {
   "cell_type": "code",
   "execution_count": 2,
   "metadata": {
    "scrolled": true
   },
   "outputs": [
    {
     "name": "stdout",
     "output_type": "stream",
     "text": [
      "(512, 512, 3)\n"
     ]
    }
   ],
   "source": [
    "lena_img = cv2.imread(\"lena.jpg\")\n",
    "print(lena_img.shape)\n",
    "cv2.imshow(\"Lena\",lena_img)\n",
    "cv2.watiKey()\n",
    "cv2.destroyAllWindows()"
   ]
  },
  {
   "cell_type": "code",
   "execution_count": 3,
   "metadata": {},
   "outputs": [
    {
     "data": {
      "text/plain": [
       "numpy.ndarray"
      ]
     },
     "execution_count": 3,
     "metadata": {},
     "output_type": "execute_result"
    }
   ],
   "source": [
    "type(lena_img)\n",
    "lena_img[0][0]"
   ]
  },
  {
   "cell_type": "markdown",
   "metadata": {},
   "source": [
    "## OpenCV와 이미지 읽기"
   ]
  },
  {
   "cell_type": "code",
   "execution_count": 3,
   "metadata": {},
   "outputs": [],
   "source": [
    "import cv2\n",
    "\n",
    "fname = 'lena.jpg'\n",
    "\n",
    "original = cv2.imread(fname,cv2.IMREAD_COLOR)\n",
    "gray = cv2.imread(fname,cv2.IMREAD_GRAYSCALE)\n",
    "unchanged = cv2.imread(fname,cv2.IMREAD_UNCHANGED)\n",
    "\n",
    "cv2.imshow('original',original)\n",
    "cv2.imshow('gray',gray)\n",
    "cv2.imshow('unchanged',unchanged)\n",
    "\n",
    "cv2.waitKey(0)\n",
    "cv2.destroyAllWindows()"
   ]
  },
  {
   "cell_type": "code",
   "execution_count": 27,
   "metadata": {
    "code_folding": [],
    "scrolled": false
   },
   "outputs": [
    {
     "data": {
      "text/plain": [
       "True"
      ]
     },
     "execution_count": 27,
     "metadata": {},
     "output_type": "execute_result"
    }
   ],
   "source": [
    "# p12 이미지 저장하기\n",
    "img = cv2.imread('lena.jpg',cv2.IMREAD_GRAYSCALE)\n",
    "cv2.imwrite('lenagray.png',img)"
   ]
  },
  {
   "cell_type": "code",
   "execution_count": null,
   "metadata": {},
   "outputs": [],
   "source": [
    "#p13 matplotlib 사용하기\n",
    "\n",
    "import cv2\n",
    "from matplotlib import pyplot as plt\n",
    "%matplotlib inline\n",
    "\n",
    "img = cv2.imread('lena.jpg', cv2.IMREAD_COLOR)\n",
    "\n",
    "plt.imshow(img)\n",
    "plt.xticks([])\n",
    "plt.yticks([])\n",
    "plt.show\n",
    "#cv2는 BGR, 이미지는 RGB"
   ]
  },
  {
   "cell_type": "code",
   "execution_count": null,
   "metadata": {},
   "outputs": [],
   "source": [
    "#p14 matplotlib 사용하기\n",
    "\n",
    "import cv2\n",
    "from matplotlib import pyplot as plt\n",
    "%matplotlib inline\n",
    "\n",
    "img = cv2.imread('lena.jpg', cv2.IMREAD_COLOR)\n",
    "\n",
    "plt.imshow(img)\n",
    "plt.xticks([])\n",
    "plt.yticks([])\n",
    "plt.show"
   ]
  },
  {
   "cell_type": "markdown",
   "metadata": {},
   "source": [
    "## 디지털 이미지와 컬러"
   ]
  },
  {
   "cell_type": "code",
   "execution_count": 28,
   "metadata": {},
   "outputs": [
    {
     "name": "stdout",
     "output_type": "stream",
     "text": [
      "(512, 512)\n"
     ]
    }
   ],
   "source": [
    "lena_gray = cv2.imread('lena.jpg',cv2.IMREAD_GRAYSCALE)\n",
    "print(lena_gray.shape)\n",
    "cv2.imshow(\"Lena\",lena_gray)\n",
    "cv2.waitKey()\n",
    "cv2.destroyAllWindows()"
   ]
  },
  {
   "cell_type": "code",
   "execution_count": 29,
   "metadata": {},
   "outputs": [
    {
     "data": {
      "text/plain": [
       "162"
      ]
     },
     "execution_count": 29,
     "metadata": {},
     "output_type": "execute_result"
    }
   ],
   "source": [
    "lena_gray[0][0]"
   ]
  },
  {
   "cell_type": "code",
   "execution_count": 31,
   "metadata": {
    "scrolled": true
   },
   "outputs": [
    {
     "name": "stdout",
     "output_type": "stream",
     "text": [
      "['COLOR_BAYER_BG2BGR', 'COLOR_BAYER_BG2BGRA', 'COLOR_BAYER_BG2BGR_EA', 'COLOR_BAYER_BG2BGR_VNG', 'COLOR_BAYER_BG2GRAY', 'COLOR_BAYER_BG2RGB', 'COLOR_BAYER_BG2RGBA', 'COLOR_BAYER_BG2RGB_EA', 'COLOR_BAYER_BG2RGB_VNG', 'COLOR_BAYER_GB2BGR', 'COLOR_BAYER_GB2BGRA', 'COLOR_BAYER_GB2BGR_EA', 'COLOR_BAYER_GB2BGR_VNG', 'COLOR_BAYER_GB2GRAY', 'COLOR_BAYER_GB2RGB', 'COLOR_BAYER_GB2RGBA', 'COLOR_BAYER_GB2RGB_EA', 'COLOR_BAYER_GB2RGB_VNG', 'COLOR_BAYER_GR2BGR', 'COLOR_BAYER_GR2BGRA', 'COLOR_BAYER_GR2BGR_EA', 'COLOR_BAYER_GR2BGR_VNG', 'COLOR_BAYER_GR2GRAY', 'COLOR_BAYER_GR2RGB', 'COLOR_BAYER_GR2RGBA', 'COLOR_BAYER_GR2RGB_EA', 'COLOR_BAYER_GR2RGB_VNG', 'COLOR_BAYER_RG2BGR', 'COLOR_BAYER_RG2BGRA', 'COLOR_BAYER_RG2BGR_EA', 'COLOR_BAYER_RG2BGR_VNG', 'COLOR_BAYER_RG2GRAY', 'COLOR_BAYER_RG2RGB', 'COLOR_BAYER_RG2RGBA', 'COLOR_BAYER_RG2RGB_EA', 'COLOR_BAYER_RG2RGB_VNG', 'COLOR_BGR2BGR555', 'COLOR_BGR2BGR565', 'COLOR_BGR2BGRA', 'COLOR_BGR2GRAY', 'COLOR_BGR2HLS', 'COLOR_BGR2HLS_FULL', 'COLOR_BGR2HSV', 'COLOR_BGR2HSV_FULL', 'COLOR_BGR2LAB', 'COLOR_BGR2LUV', 'COLOR_BGR2Lab', 'COLOR_BGR2Luv', 'COLOR_BGR2RGB', 'COLOR_BGR2RGBA', 'COLOR_BGR2XYZ', 'COLOR_BGR2YCR_CB', 'COLOR_BGR2YCrCb', 'COLOR_BGR2YUV', 'COLOR_BGR2YUV_I420', 'COLOR_BGR2YUV_IYUV', 'COLOR_BGR2YUV_YV12', 'COLOR_BGR5552BGR', 'COLOR_BGR5552BGRA', 'COLOR_BGR5552GRAY', 'COLOR_BGR5552RGB', 'COLOR_BGR5552RGBA', 'COLOR_BGR5652BGR', 'COLOR_BGR5652BGRA', 'COLOR_BGR5652GRAY', 'COLOR_BGR5652RGB', 'COLOR_BGR5652RGBA', 'COLOR_BGRA2BGR', 'COLOR_BGRA2BGR555', 'COLOR_BGRA2BGR565', 'COLOR_BGRA2GRAY', 'COLOR_BGRA2RGB', 'COLOR_BGRA2RGBA', 'COLOR_BGRA2YUV_I420', 'COLOR_BGRA2YUV_IYUV', 'COLOR_BGRA2YUV_YV12', 'COLOR_BayerBG2BGR', 'COLOR_BayerBG2BGRA', 'COLOR_BayerBG2BGR_EA', 'COLOR_BayerBG2BGR_VNG', 'COLOR_BayerBG2GRAY', 'COLOR_BayerBG2RGB', 'COLOR_BayerBG2RGBA', 'COLOR_BayerBG2RGB_EA', 'COLOR_BayerBG2RGB_VNG', 'COLOR_BayerGB2BGR', 'COLOR_BayerGB2BGRA', 'COLOR_BayerGB2BGR_EA', 'COLOR_BayerGB2BGR_VNG', 'COLOR_BayerGB2GRAY', 'COLOR_BayerGB2RGB', 'COLOR_BayerGB2RGBA', 'COLOR_BayerGB2RGB_EA', 'COLOR_BayerGB2RGB_VNG', 'COLOR_BayerGR2BGR', 'COLOR_BayerGR2BGRA', 'COLOR_BayerGR2BGR_EA', 'COLOR_BayerGR2BGR_VNG', 'COLOR_BayerGR2GRAY', 'COLOR_BayerGR2RGB', 'COLOR_BayerGR2RGBA', 'COLOR_BayerGR2RGB_EA', 'COLOR_BayerGR2RGB_VNG', 'COLOR_BayerRG2BGR', 'COLOR_BayerRG2BGRA', 'COLOR_BayerRG2BGR_EA', 'COLOR_BayerRG2BGR_VNG', 'COLOR_BayerRG2GRAY', 'COLOR_BayerRG2RGB', 'COLOR_BayerRG2RGBA', 'COLOR_BayerRG2RGB_EA', 'COLOR_BayerRG2RGB_VNG', 'COLOR_COLORCVT_MAX', 'COLOR_GRAY2BGR', 'COLOR_GRAY2BGR555', 'COLOR_GRAY2BGR565', 'COLOR_GRAY2BGRA', 'COLOR_GRAY2RGB', 'COLOR_GRAY2RGBA', 'COLOR_HLS2BGR', 'COLOR_HLS2BGR_FULL', 'COLOR_HLS2RGB', 'COLOR_HLS2RGB_FULL', 'COLOR_HSV2BGR', 'COLOR_HSV2BGR_FULL', 'COLOR_HSV2RGB', 'COLOR_HSV2RGB_FULL', 'COLOR_LAB2BGR', 'COLOR_LAB2LBGR', 'COLOR_LAB2LRGB', 'COLOR_LAB2RGB', 'COLOR_LBGR2LAB', 'COLOR_LBGR2LUV', 'COLOR_LBGR2Lab', 'COLOR_LBGR2Luv', 'COLOR_LRGB2LAB', 'COLOR_LRGB2LUV', 'COLOR_LRGB2Lab', 'COLOR_LRGB2Luv', 'COLOR_LUV2BGR', 'COLOR_LUV2LBGR', 'COLOR_LUV2LRGB', 'COLOR_LUV2RGB', 'COLOR_Lab2BGR', 'COLOR_Lab2LBGR', 'COLOR_Lab2LRGB', 'COLOR_Lab2RGB', 'COLOR_Luv2BGR', 'COLOR_Luv2LBGR', 'COLOR_Luv2LRGB', 'COLOR_Luv2RGB', 'COLOR_M_RGBA2RGBA', 'COLOR_RGB2BGR', 'COLOR_RGB2BGR555', 'COLOR_RGB2BGR565', 'COLOR_RGB2BGRA', 'COLOR_RGB2GRAY', 'COLOR_RGB2HLS', 'COLOR_RGB2HLS_FULL', 'COLOR_RGB2HSV', 'COLOR_RGB2HSV_FULL', 'COLOR_RGB2LAB', 'COLOR_RGB2LUV', 'COLOR_RGB2Lab', 'COLOR_RGB2Luv', 'COLOR_RGB2RGBA', 'COLOR_RGB2XYZ', 'COLOR_RGB2YCR_CB', 'COLOR_RGB2YCrCb', 'COLOR_RGB2YUV', 'COLOR_RGB2YUV_I420', 'COLOR_RGB2YUV_IYUV', 'COLOR_RGB2YUV_YV12', 'COLOR_RGBA2BGR', 'COLOR_RGBA2BGR555', 'COLOR_RGBA2BGR565', 'COLOR_RGBA2BGRA', 'COLOR_RGBA2GRAY', 'COLOR_RGBA2M_RGBA', 'COLOR_RGBA2RGB', 'COLOR_RGBA2YUV_I420', 'COLOR_RGBA2YUV_IYUV', 'COLOR_RGBA2YUV_YV12', 'COLOR_RGBA2mRGBA', 'COLOR_XYZ2BGR', 'COLOR_XYZ2RGB', 'COLOR_YCR_CB2BGR', 'COLOR_YCR_CB2RGB', 'COLOR_YCrCb2BGR', 'COLOR_YCrCb2RGB', 'COLOR_YUV2BGR', 'COLOR_YUV2BGRA_I420', 'COLOR_YUV2BGRA_IYUV', 'COLOR_YUV2BGRA_NV12', 'COLOR_YUV2BGRA_NV21', 'COLOR_YUV2BGRA_UYNV', 'COLOR_YUV2BGRA_UYVY', 'COLOR_YUV2BGRA_Y422', 'COLOR_YUV2BGRA_YUNV', 'COLOR_YUV2BGRA_YUY2', 'COLOR_YUV2BGRA_YUYV', 'COLOR_YUV2BGRA_YV12', 'COLOR_YUV2BGRA_YVYU', 'COLOR_YUV2BGR_I420', 'COLOR_YUV2BGR_IYUV', 'COLOR_YUV2BGR_NV12', 'COLOR_YUV2BGR_NV21', 'COLOR_YUV2BGR_UYNV', 'COLOR_YUV2BGR_UYVY', 'COLOR_YUV2BGR_Y422', 'COLOR_YUV2BGR_YUNV', 'COLOR_YUV2BGR_YUY2', 'COLOR_YUV2BGR_YUYV', 'COLOR_YUV2BGR_YV12', 'COLOR_YUV2BGR_YVYU', 'COLOR_YUV2GRAY_420', 'COLOR_YUV2GRAY_I420', 'COLOR_YUV2GRAY_IYUV', 'COLOR_YUV2GRAY_NV12', 'COLOR_YUV2GRAY_NV21', 'COLOR_YUV2GRAY_UYNV', 'COLOR_YUV2GRAY_UYVY', 'COLOR_YUV2GRAY_Y422', 'COLOR_YUV2GRAY_YUNV', 'COLOR_YUV2GRAY_YUY2', 'COLOR_YUV2GRAY_YUYV', 'COLOR_YUV2GRAY_YV12', 'COLOR_YUV2GRAY_YVYU', 'COLOR_YUV2RGB', 'COLOR_YUV2RGBA_I420', 'COLOR_YUV2RGBA_IYUV', 'COLOR_YUV2RGBA_NV12', 'COLOR_YUV2RGBA_NV21', 'COLOR_YUV2RGBA_UYNV', 'COLOR_YUV2RGBA_UYVY', 'COLOR_YUV2RGBA_Y422', 'COLOR_YUV2RGBA_YUNV', 'COLOR_YUV2RGBA_YUY2', 'COLOR_YUV2RGBA_YUYV', 'COLOR_YUV2RGBA_YV12', 'COLOR_YUV2RGBA_YVYU', 'COLOR_YUV2RGB_I420', 'COLOR_YUV2RGB_IYUV', 'COLOR_YUV2RGB_NV12', 'COLOR_YUV2RGB_NV21', 'COLOR_YUV2RGB_UYNV', 'COLOR_YUV2RGB_UYVY', 'COLOR_YUV2RGB_Y422', 'COLOR_YUV2RGB_YUNV', 'COLOR_YUV2RGB_YUY2', 'COLOR_YUV2RGB_YUYV', 'COLOR_YUV2RGB_YV12', 'COLOR_YUV2RGB_YVYU', 'COLOR_YUV420P2BGR', 'COLOR_YUV420P2BGRA', 'COLOR_YUV420P2GRAY', 'COLOR_YUV420P2RGB', 'COLOR_YUV420P2RGBA', 'COLOR_YUV420SP2BGR', 'COLOR_YUV420SP2BGRA', 'COLOR_YUV420SP2GRAY', 'COLOR_YUV420SP2RGB', 'COLOR_YUV420SP2RGBA', 'COLOR_YUV420p2BGR', 'COLOR_YUV420p2BGRA', 'COLOR_YUV420p2GRAY', 'COLOR_YUV420p2RGB', 'COLOR_YUV420p2RGBA', 'COLOR_YUV420sp2BGR', 'COLOR_YUV420sp2BGRA', 'COLOR_YUV420sp2GRAY', 'COLOR_YUV420sp2RGB', 'COLOR_YUV420sp2RGBA', 'COLOR_mRGBA2RGBA']\n"
     ]
    }
   ],
   "source": [
    "import cv2\n",
    "flags = [i for i in dir(cv2) if i.startswith('COLOR_')]\n",
    "print(flags)\n",
    "# 영상변환에 사용할 수 있는 150여가지 코드"
   ]
  },
  {
   "cell_type": "code",
   "execution_count": 33,
   "metadata": {},
   "outputs": [
    {
     "name": "stdout",
     "output_type": "stream",
     "text": [
      "[127 136 226]\n",
      "161.884\n",
      "154.2582\n",
      "162\n"
     ]
    }
   ],
   "source": [
    "# 컬러 공간 변환\n",
    "lena_img = cv2.imread(\"lena.jpg\")\n",
    "B, G, R = lena_img[0][0]\n",
    "\n",
    "# 3차원 nd.array\n",
    "print(lena_img[0][0])\n",
    "print(0.114*B+0.587*G+0.299*R)\n",
    "print(0.0722*B+0.7152*G+0.2116*R)\n",
    "\n",
    "#gray scale은 2차원\n",
    "lena_gray = cv2.imread(\"lena.jpg\",cv2.IMREAD_GRAYSCALE)\n",
    "print(lena_gray[0][0])"
   ]
  },
  {
   "cell_type": "markdown",
   "metadata": {},
   "source": [
    "# 영상 기본 연산\n"
   ]
  },
  {
   "cell_type": "markdown",
   "metadata": {},
   "source": [
    "## 영상 기본 정보"
   ]
  },
  {
   "cell_type": "code",
   "execution_count": 34,
   "metadata": {},
   "outputs": [
    {
     "data": {
      "text/plain": [
       "dtype('uint8')"
      ]
     },
     "execution_count": 34,
     "metadata": {},
     "output_type": "execute_result"
    }
   ],
   "source": [
    "img = cv2.imread('lena.jpg')\n",
    "img.shape\n",
    "img[0,0]\n",
    "img.size\n",
    "img.dtype"
   ]
  },
  {
   "cell_type": "code",
   "execution_count": 38,
   "metadata": {},
   "outputs": [],
   "source": [
    "import hanscv as hs\n",
    "img = cv2.imread(\"lena.jpg\",0)\n",
    "height, width = img.shape\n",
    "for y in range(height):\n",
    "    for x in range(width):\n",
    "        if(y%2==0):\n",
    "            img[y,x]=0\n",
    "hs.iwd('lena',img)\n"
   ]
  },
  {
   "cell_type": "code",
   "execution_count": null,
   "metadata": {},
   "outputs": [],
   "source": [
    "for y in range(height):\n",
    "    if(y%2==0):\n",
    "         for x in range(width):\n",
    "            img[y,x]=0"
   ]
  },
  {
   "cell_type": "code",
   "execution_count": null,
   "metadata": {},
   "outputs": [],
   "source": [
    "for y in range(height):\n",
    "        if(y%2==0):\n",
    "            img[y,:]=0"
   ]
  },
  {
   "cell_type": "markdown",
   "metadata": {},
   "source": [
    "### 함수 만들기"
   ]
  },
  {
   "cell_type": "code",
   "execution_count": null,
   "metadata": {},
   "outputs": [],
   "source": [
    "#나는 hanscv.py를 만들었기 때문에 import하면 됨\n",
    "\n",
    "import numpy as np\n",
    "import cv2\n",
    "\n",
    "def vertical_black_lines(img):\n",
    "    height, width = img.shape\n",
    "    img_ = np.zeros(img.shape, dtype=np.uint8)\n",
    "    for y in range(height):\n",
    "        if(y%2!=0):\n",
    "            img_[y,:] = img[y,:]\n",
    "        else:\n",
    "            pass\n",
    "    return img_\n",
    "\n",
    "def img_pro(func, img, *args, output=True, **kwargs):\n",
    "    img_=func(img,*args,*kwargs)\n",
    "    if output:\n",
    "        cv2.imshow(\"Image\",img_)\n",
    "        cv2.waitKey()\n",
    "        cv2.destroyAllWindows()\n",
    "        \n",
    "    else:\n",
    "        return img_\n",
    "    \n",
    "def iwd(name,img):\n",
    "    cv2.imshow(name,img)\n",
    "    cv2.waitKey()\n",
    "    cv2.destroyAllWindows()\n",
    "    \n",
    "    "
   ]
  },
  {
   "cell_type": "code",
   "execution_count": null,
   "metadata": {},
   "outputs": [],
   "source": [
    "import cv2\n",
    "import matplotlib.pyplot as plt\n",
    "\n",
    "def img_pro2(func, img, *args, output = True, win = False, **kwargs):\n",
    "    img_ = func(img,*args,**kwargs)\n",
    "    if output:\n",
    "        if win:\n",
    "            cv2.imshow(\"Image\",img_)\n",
    "            cv2.waitKey()\n",
    "            cv2.destroyAllWindows()\n",
    "        else:\n",
    "            fig, axes = plt.subplots(1,2)\n",
    "            axes[0].imshow(img, cmap=\"gray\")\n",
    "            axes[0].axis(\"off\"); axes[0].set_title(\"origin\")\n",
    "            axes[1].imshow(img_, cmap=\"gray\", interpolation=None)\n",
    "            axes[1].axis(\"off\"); axes[1].set_title(\"target\")\n",
    "    else:\n",
    "        return img_"
   ]
  },
  {
   "cell_type": "code",
   "execution_count": null,
   "metadata": {},
   "outputs": [],
   "source": [
    "import cv2\n",
    "import numpy as np\n",
    "import hanscv\n",
    "\n",
    "img = cv2.imread(\"lena.jpg\", cv2.IMREAD_GRAYSCALE)\n",
    "img_pro(black_lines, img)"
   ]
  },
  {
   "cell_type": "code",
   "execution_count": null,
   "metadata": {},
   "outputs": [],
   "source": [
    "import cv2\n",
    "import numpy as np\n",
    "import hanscv\n",
    "\n",
    "img = cv2.imread(\"lena.jpg\", cv2.IMREAD_GRAYSCALE)\n",
    "img_pro(black_lines, img, output=False)\n",
    "cv2.imshow(\"Lena\",T)\n",
    "cv2.waitKey()\n",
    "cv2.destroyAllWindows()\n",
    "# or hanscv.iwd(\"Lena\",T)"
   ]
  },
  {
   "cell_type": "markdown",
   "metadata": {},
   "source": [
    "### ROI(Region Of Image)"
   ]
  },
  {
   "cell_type": "code",
   "execution_count": 2,
   "metadata": {},
   "outputs": [],
   "source": [
    "import hanscv\n",
    "import cv2\n",
    "import numpy as np\n",
    "\n",
    "img = cv2.imread(\"lena.jpg\")\n",
    "temp = img[100:150, 200:250]\n",
    "img[150:200, 200:250] = temp\n",
    "hanscv.iwd(\"img\",img)"
   ]
  },
  {
   "cell_type": "markdown",
   "metadata": {},
   "source": [
    "## 채널과 영상"
   ]
  },
  {
   "cell_type": "markdown",
   "metadata": {},
   "source": [
    "### 이미지채널"
   ]
  },
  {
   "cell_type": "code",
   "execution_count": 4,
   "metadata": {
    "scrolled": true
   },
   "outputs": [
    {
     "data": {
      "text/plain": [
       "[array([[127, 127, 127, ..., 122, 102,  74],\n",
       "        [128, 128, 127, ..., 129, 113,  87],\n",
       "        [127, 127, 126, ..., 132, 117,  91],\n",
       "        ...,\n",
       "        [ 57,  61,  65, ...,  78,  77,  73],\n",
       "        [ 55,  61,  67, ...,  81,  79,  78],\n",
       "        [ 55,  61,  69, ...,  78,  79,  78]], dtype=uint8),\n",
       " array([[136, 136, 136, ..., 146, 127, 100],\n",
       "        [137, 137, 136, ..., 149, 134, 108],\n",
       "        [138, 138, 137, ..., 146, 130, 105],\n",
       "        ...,\n",
       "        [ 19,  23,  27, ...,  71,  68,  66],\n",
       "        [ 17,  23,  29, ...,  73,  72,  72],\n",
       "        [ 17,  23,  31, ...,  72,  72,  72]], dtype=uint8),\n",
       " array([[226, 226, 226, ..., 234, 213, 184],\n",
       "        [227, 227, 226, ..., 237, 219, 193],\n",
       "        [228, 228, 227, ..., 234, 216, 188],\n",
       "        ...,\n",
       "        [ 85,  89,  93, ..., 176, 178, 177],\n",
       "        [ 83,  89,  95, ..., 180, 183, 185],\n",
       "        [ 83,  89,  97, ..., 181, 183, 185]], dtype=uint8)]"
      ]
     },
     "execution_count": 4,
     "metadata": {},
     "output_type": "execute_result"
    }
   ],
   "source": [
    "import hanscv\n",
    "import cv2\n",
    "import numpy as np\n",
    "\n",
    "img = cv2.imread(\"lena.jpg\")\n",
    "b, g, r = cv2.split(img)\n",
    "cv2.split(img)\n",
    "np.mean(b), np.mean(g), np.mean(r)\n",
    "# cv2로 이미지를 불러오면 RGB형식의 np.array(dtype = uint8)이 아닌\n",
    "# B,G,R 형식으로 불러온다."
   ]
  },
  {
   "cell_type": "markdown",
   "metadata": {},
   "source": [
    "cv2.split()은 비용이 많이 드는 함수이다.\n",
    "웬만하면, numpy indexing을 사용하는 것이 효율적이다."
   ]
  },
  {
   "cell_type": "code",
   "execution_count": null,
   "metadata": {},
   "outputs": [],
   "source": [
    "import hanscv\n",
    "import cv2\n",
    "import numpy as np\n",
    "\n",
    "img = cv2.imread('lena.jpg')\n",
    "img[:,:,:2] = 0 # RED Channel을 0으로 변경\n",
    "hanscv.iwd('img',img)"
   ]
  },
  {
   "cell_type": "markdown",
   "metadata": {},
   "source": [
    "### 이미지 블렌딩(Blending)"
   ]
  },
  {
   "cell_type": "code",
   "execution_count": 5,
   "metadata": {},
   "outputs": [],
   "source": [
    "import hanscv\n",
    "import cv2\n",
    "import numpy as np\n",
    "\n",
    "img1 = cv2.imread('flower1.jpg')\n",
    "img2 = cv2.imread('flower2.jpg')\n",
    "\n",
    "def nothing(x):\n",
    "    pass\n",
    "\n",
    "cv2.namedWindow('image')\n",
    "cv2.createTrackbar('W','image',0,100,nothing)\n",
    "\n",
    "while True:\n",
    "    w = cv2.getTrackbarPos('W','image')\n",
    "    dst = cv2.addWeighted(img1,float(100-w)*0.01, img2, float(w)*0.01,0)\n",
    "    cv2.imshow('dst',dst)\n",
    "    if cv2.waitKey(1) & 0xFF == 27:\n",
    "        break;\n",
    "        \n",
    "cv2.destroyAllWindows()"
   ]
  },
  {
   "cell_type": "markdown",
   "metadata": {},
   "source": [
    "### 비트연산"
   ]
  },
  {
   "cell_type": "code",
   "execution_count": 7,
   "metadata": {},
   "outputs": [],
   "source": [
    "import hanscv\n",
    "import numpy as np\n",
    "import cv2\n",
    "\n",
    "# png는 1개의 Channel이 더있다. 투명도 채널\n",
    "# IMREAD_UNCHANGED로 불러오면 3차원의 z의 값이 4개이다.\n",
    "img1 = cv2.imread('logo.png')\n",
    "img2 = cv2.imread('lena.jpg')\n",
    "\n",
    "rows, cols, channels = img1.shape\n",
    "\n",
    "roi = img2[0:rows, 0:cols]\n",
    "# numpy indexing으로 slice\n",
    "\n",
    "img2gray = cv2.cvtColor(img1, cv2.COLOR_BGR2GRAY)\n",
    "ret, mask = cv2.threshold(img2gray, 10, 255, cv2.THRESH_BINARY)\n",
    "mask_inv = cv2.bitwise_not(mask)\n",
    "\n",
    "# img1의 배경과 logo부분을 img2의 그림에서 제거한 다음\n",
    "# 제거된 부분에 log를 넣어주는 방식\n",
    "img1_fg = cv2.bitwise_and(img1, img1, mask=mask)\n",
    "img1_bg = cv2.bitwise_and(roi, roi, mask=mask_inv)\n",
    "\n",
    "dst = cv2.add(img1_fg, img1_bg)\n",
    "\n",
    "img2[0:rows, 0:cols] = dst\n",
    "\n",
    "hanscv.iwd('res',img2)\n",
    "\n"
   ]
  },
  {
   "cell_type": "markdown",
   "metadata": {},
   "source": [
    "### 이미지 임계 처리"
   ]
  },
  {
   "cell_type": "code",
   "execution_count": null,
   "metadata": {},
   "outputs": [],
   "source": [
    "import cv2\n",
    "import numpy as np\n",
    "from matplotlib import pyplot as plt\n",
    "\n",
    "img = cv2.imread('gradient.png',0)\n",
    "\n",
    "ret, thresh1 = cv2.threshold(img,127,255, cv2.THRESH_BINARY)\n",
    "ret, thresh2 = cv2.threshold(img,127,255, cv2.THRESH_BINARY_INV)\n",
    "ret, thresh3 = cv2.threshold(img,127,255, cv2.THRESH_TRUNC)\n",
    "ret, thresh4 = cv2.threshold(img,127,255, cv2.THRESH_TOZERO)\n",
    "ret, thresh5 = cv2.threshold(img,127,255, cv2.THRESH_TOZERO_INV)\n",
    "\n",
    "titles = ['Original','BINARY','BINARY_INV','TRUNC','TOZERO','TOZERO_INV']\n",
    "images = [img,thresh1,thresh2,thresh3,thresh4,thresh5]\n",
    "\n",
    "for i in range(6):\n",
    "    plt.subplot(2,3,i+1),plt.imshow(images[i],'gray')\n",
    "    plt.title(titles[i])\n",
    "    plt.xticks([]),plt.yticks([])\n",
    "    \n",
    "plt.show()"
   ]
  },
  {
   "cell_type": "code",
   "execution_count": null,
   "metadata": {},
   "outputs": [],
   "source": [
    "import cv2\n",
    "import numpy as np\n",
    "from matplotlib import pyplot as plt\n",
    "\n",
    "img = cv2.imread('dave.png',0)\n",
    "\n",
    "ret, th1 = cv2.threshold(img,127,255,cv2.THRESH_BINARY)\n",
    "\n",
    "th2 = cv2.adaptiveThreshold(img, 255,cv2.ADAPTIVE_THRESH_MEAN_C,cv2.THRESH_BINARY,15,2)\n",
    "th3 = cv2.adaptiveThreshold(img, 255,cv2.ADAPTIVE_THRESH_GAUSSIAN_C,cv2.THRESH_BINARY,15,2)\n",
    "titles = ['Original','Global','Mean','Gaussian']\n",
    "images = [img,th1,th2,th3]\n",
    "\n",
    "for i in range(len(images)):\n",
    "    plt.subplot(2,2,i+1),plt.imshow(images[i],'gray')\n",
    "    plt.title(titles[i])\n",
    "    plt.xticks([]),plt.yticks([])\n",
    "    \n",
    "plt.show()"
   ]
  },
  {
   "cell_type": "markdown",
   "metadata": {},
   "source": [
    "## 히스토그램"
   ]
  },
  {
   "cell_type": "markdown",
   "metadata": {},
   "source": [
    "### 히스토그램"
   ]
  },
  {
   "cell_type": "code",
   "execution_count": 54,
   "metadata": {},
   "outputs": [
    {
     "data": {
      "text/plain": [
       "<BarContainer object of 256 artists>"
      ]
     },
     "execution_count": 54,
     "metadata": {},
     "output_type": "execute_result"
    },
    {
     "data": {
      "image/png": "[encoded data removed]",
      "text/plain": [
       "<Figure size 432x288 with 1 Axes>"
      ]
     },
     "metadata": {
      "needs_background": "light"
     },
     "output_type": "display_data"
    }
   ],
   "source": [
    "import numpy as np\n",
    "import hanscv\n",
    "import cv2\n",
    "from matplotlib import pyplot as plt\n",
    "\n",
    "img = cv2.imread(\"couple2.jpg\",flags = cv2.IMREAD_GRAYSCALE)\n",
    "\n",
    "hist = np.zeros((256),dtype=np.uint8)\n",
    "height, width = img.shape\n",
    "\n",
    "for y in range(height):\n",
    "    for x in range(width):\n",
    "        hist[img[y,x]] = hist[img[y,x]]+1\n",
    "        \n",
    "plt.bar(x=range(256),height=hist)"
   ]
  },
  {
   "cell_type": "code",
   "execution_count": 56,
   "metadata": {},
   "outputs": [
    {
     "data": {
      "image/png": "[encoded data removed]",
      "text/plain": [
       "<Figure size 432x288 with 1 Axes>"
      ]
     },
     "metadata": {
      "needs_background": "light"
     },
     "output_type": "display_data"
    }
   ],
   "source": [
    "lena_gray = cv2.imread(\"lena.jpg\",cv2.IMREAD_GRAYSCALE)\n",
    "hist = cv2.calcHist(images=[lena_gray], channels=[0], mask=None, histSize=[256],ranges=[0,256])\n",
    "\n",
    "plt.plot(hist.flatten())\n",
    "plt.show()"
   ]
  },
  {
   "cell_type": "markdown",
   "metadata": {},
   "source": [
    "### 2D 히스토그램"
   ]
  },
  {
   "cell_type": "code",
   "execution_count": 60,
   "metadata": {
    "scrolled": true
   },
   "outputs": [
    {
     "ename": "error",
     "evalue": "OpenCV(4.2.0) C:\\projects\\opencv-python\\opencv\\modules\\imgproc\\src\\color.cpp:182: error: (-215:Assertion failed) !_src.empty() in function 'cv::cvtColor'\n",
     "output_type": "error",
     "traceback": [
      "\u001b[1;31m---------------------------------------------------------------------------\u001b[0m",
      "\u001b[1;31merror\u001b[0m                                     Traceback (most recent call last)",
      "\u001b[1;32m<ipython-input-60-db1973f250f3>\u001b[0m in \u001b[0;36m<module>\u001b[1;34m\u001b[0m\n\u001b[0;32m      4\u001b[0m \u001b[1;33m\u001b[0m\u001b[0m\n\u001b[0;32m      5\u001b[0m \u001b[0mimg\u001b[0m \u001b[1;33m=\u001b[0m \u001b[0mcv2\u001b[0m\u001b[1;33m.\u001b[0m\u001b[0mimread\u001b[0m\u001b[1;33m(\u001b[0m\u001b[1;34m\"home.jpg\"\u001b[0m\u001b[1;33m)\u001b[0m\u001b[1;33m\u001b[0m\u001b[1;33m\u001b[0m\u001b[0m\n\u001b[1;32m----> 6\u001b[1;33m \u001b[0mhsv\u001b[0m \u001b[1;33m=\u001b[0m \u001b[0mcv2\u001b[0m\u001b[1;33m.\u001b[0m\u001b[0mcvtColor\u001b[0m\u001b[1;33m(\u001b[0m\u001b[0mimg\u001b[0m\u001b[1;33m,\u001b[0m \u001b[0mcv2\u001b[0m\u001b[1;33m.\u001b[0m\u001b[0mCOLOR_BGR2HSV\u001b[0m\u001b[1;33m)\u001b[0m\u001b[1;33m\u001b[0m\u001b[1;33m\u001b[0m\u001b[0m\n\u001b[0m\u001b[0;32m      7\u001b[0m \u001b[1;33m\u001b[0m\u001b[0m\n\u001b[0;32m      8\u001b[0m \u001b[0mhist\u001b[0m \u001b[1;33m=\u001b[0m \u001b[0mcv2\u001b[0m\u001b[1;33m.\u001b[0m\u001b[0mcalcHist\u001b[0m\u001b[1;33m(\u001b[0m\u001b[1;33m[\u001b[0m\u001b[0mhsv\u001b[0m\u001b[1;33m]\u001b[0m\u001b[1;33m,\u001b[0m\u001b[1;33m[\u001b[0m\u001b[1;36m0\u001b[0m\u001b[1;33m,\u001b[0m\u001b[1;36m1\u001b[0m\u001b[1;33m]\u001b[0m\u001b[1;33m,\u001b[0m\u001b[1;32mNone\u001b[0m\u001b[1;33m,\u001b[0m\u001b[1;33m[\u001b[0m\u001b[1;36m180\u001b[0m\u001b[1;33m,\u001b[0m\u001b[1;36m256\u001b[0m\u001b[1;33m]\u001b[0m\u001b[1;33m,\u001b[0m\u001b[1;33m[\u001b[0m\u001b[1;36m0\u001b[0m\u001b[1;33m,\u001b[0m\u001b[1;36m180\u001b[0m\u001b[1;33m,\u001b[0m\u001b[1;36m0\u001b[0m\u001b[1;33m,\u001b[0m\u001b[1;36m256\u001b[0m\u001b[1;33m]\u001b[0m\u001b[1;33m)\u001b[0m\u001b[1;33m\u001b[0m\u001b[1;33m\u001b[0m\u001b[0m\n",
      "\u001b[1;31merror\u001b[0m: OpenCV(4.2.0) C:\\projects\\opencv-python\\opencv\\modules\\imgproc\\src\\color.cpp:182: error: (-215:Assertion failed) !_src.empty() in function 'cv::cvtColor'\n"
     ]
    }
   ],
   "source": [
    "import cv2\n",
    "import numpy as np\n",
    "from matplotlib import pyplot as plt\n",
    "\n",
    "img = cv2.imread(\"home.jpg\")\n",
    "hsv = cv2.cvtColor(img, cv2.COLOR_BGR2HSV)\n",
    "\n",
    "hist = cv2.calcHist([hsv],[0,1],None,[180,256],[0,180,0,256])\n",
    "\n",
    "plt.imshow(hist)\n",
    "plt.show"
   ]
  },
  {
   "cell_type": "markdown",
   "metadata": {},
   "source": [
    "# 기하 변환"
   ]
  },
  {
   "cell_type": "markdown",
   "metadata": {},
   "source": [
    "## 기하 변환"
   ]
  },
  {
   "cell_type": "markdown",
   "metadata": {},
   "source": [
    "## 크기변경"
   ]
  },
  {
   "cell_type": "markdown",
   "metadata": {},
   "source": [
    "### 크기변경"
   ]
  },
  {
   "cell_type": "code",
   "execution_count": 1,
   "metadata": {},
   "outputs": [],
   "source": [
    "def scale_nogood(img, scale_x=1, scale_y=1):\n",
    "    height, width = img.shape\n",
    "    img_ = np.zeros((int(height*scale_y), int(width*scale_y)), dtype=np.uint8)\n",
    "    \n",
    "    for y in range(height):\n",
    "        for x in range(width):\n",
    "            try:\n",
    "                img_[int(y*scale_y),int(x*scale_x)] = img[y, x]\n",
    "            except:\n",
    "                pass\n",
    "    return img_"
   ]
  },
  {
   "cell_type": "code",
   "execution_count": 5,
   "metadata": {},
   "outputs": [],
   "source": [
    "import cv2\n",
    "img = cv2.imread('lena.jpg',cv2.IMREAD_GRAYSCALE)\n",
    "img_pro(scale_nogood, img, 0.5, 0.8)"
   ]
  },
  {
   "cell_type": "markdown",
   "metadata": {},
   "source": [
    "### 최근방법"
   ]
  },
  {
   "cell_type": "code",
   "execution_count": 14,
   "metadata": {},
   "outputs": [],
   "source": [
    "def scale_nearest(img, scale_x =1, scale_y=1):\n",
    "    height, width = img.shape\n",
    "    img_ = np.zeros((int(height*scale_y), int(width*scale_x)),dtype = np.uint8)\n",
    "    \n",
    "    for y in range(int(height*scale_y)):\n",
    "        for x in range(int(width*scale_x)):\n",
    "            try:\n",
    "                img_[y,x] = img[round(y/scale_y), round(x/scale_x)]\n",
    "            except:\n",
    "                pass\n",
    "    return img_"
   ]
  },
  {
   "cell_type": "markdown",
   "metadata": {},
   "source": [
    "### 선형방법"
   ]
  },
  {
   "cell_type": "code",
   "execution_count": 12,
   "metadata": {},
   "outputs": [],
   "source": [
    "def scale_bilinear(img, scale_x =1, scale_y=1):\n",
    "    height, width = img.shape\n",
    "    img_ = np.zeros((int(height*scale_y), int(width*scale_x)),dtype = np.uint8)\n",
    "    \n",
    "    for y in range(int(height*scale_y)):\n",
    "        for x in range(int(width*scale_x)):\n",
    "            p = x/scale_x - int(x/scale_x)\n",
    "            q = y/scale_y - int(y/scale_y)\n",
    "            \n",
    "            try:\n",
    "                X = int(x/scale_x)\n",
    "                Y = int(y/scale_y)\n",
    "                value = (1-p)*(1-q)*img[Y,X] + p*(1-q)*img[Y+1,X]\\\n",
    "                + (1-p)*q*img[Y,X+1] + p*q*img[Y+1, X+1]\n",
    "                \n",
    "                if value>255:\n",
    "                    img_[y,x] = 255\n",
    "                else:\n",
    "                    img_[y,x] = int(value)\n",
    "            except:\n",
    "                pass\n",
    "    return img_"
   ]
  },
  {
   "cell_type": "markdown",
   "metadata": {},
   "source": [
    "### maxpool2d"
   ]
  },
  {
   "cell_type": "code",
   "execution_count": 6,
   "metadata": {},
   "outputs": [],
   "source": [
    "def maxpool2d(img):\n",
    "    height, width = img.shape\n",
    "    img_ = np.zeros((int(height/2),int(width/2)),dtype=np.uint8)\n",
    "    \n",
    "    for y in range(int(height/2)):\n",
    "        for x in range(int(width/2)):\n",
    "            try:\n",
    "                img_[y,x] = np.max(img[2*y:2*y+2, 2*x:2*x+2])\n",
    "            except:\n",
    "                pass\n",
    "            \n",
    "    return img_"
   ]
  },
  {
   "cell_type": "code",
   "execution_count": 9,
   "metadata": {},
   "outputs": [],
   "source": [
    "import hanscv as hc\n",
    "hc.iwd(\"max\",maxpool2d(img))\n",
    "img_pro(maxpool2d,img)"
   ]
  },
  {
   "cell_type": "markdown",
   "metadata": {},
   "source": [
    "## 회전    "
   ]
  },
  {
   "cell_type": "markdown",
   "metadata": {},
   "source": [
    "### 회전"
   ]
  },
  {
   "cell_type": "code",
   "execution_count": 12,
   "metadata": {
    "code_folding": []
   },
   "outputs": [],
   "source": [
    "import numpy as np\n",
    "\n",
    "def rotate(img, deg=30):\n",
    "    height, width = img.shape\n",
    "    img_ = np.zeros(img.shape,dtype = np.uint8)\n",
    "    seta = np.pi / (180 / deg)\n",
    "    center_x = int(width/2)\n",
    "    center_y = int(height/2)\n",
    "    \n",
    "    for y in range(height):\n",
    "        for x in range(width):\n",
    "            X = int((x-center_x)*np.cos(seta)+\n",
    "                    (y-center_y)*np.sin(seta))+center_x\n",
    "            Y = int(-(x-center_x)*np.sin(seta)+\n",
    "                    (y-center_y)*np.cos(seta))+center_y\n",
    "        \n",
    "            if (X<0)|(X>=width)|(Y<0)|(Y>=height):\n",
    "                continue\n",
    "            img_[Y,X] = img[y,x]\n",
    "    return img_"
   ]
  },
  {
   "cell_type": "code",
   "execution_count": 15,
   "metadata": {},
   "outputs": [],
   "source": [
    "import cv2\n",
    "img = cv2.imread('lena.jpg',0)\n",
    "img_pro(rotate,img)"
   ]
  },
  {
   "cell_type": "markdown",
   "metadata": {},
   "source": [
    "### hole을 없애기 위해서"
   ]
  },
  {
   "cell_type": "code",
   "execution_count": 25,
   "metadata": {
    "code_folding": []
   },
   "outputs": [],
   "source": [
    "import numpy as np\n",
    "\n",
    "def rotate_2(img, deg=30):\n",
    "    height, width = img.shape\n",
    "    img_ = np.zeros(img.shape,dtype = np.uint8)\n",
    "    seta = np.pi / (180 / deg)\n",
    "    center_x = int(width/2)\n",
    "    center_y = int(height/2)\n",
    "    \n",
    "    for y in range(height):\n",
    "        for x in range(width):\n",
    "            X = int((x-center_x)*np.cos(seta)+\n",
    "                    (y-center_y)*np.sin(seta))+center_x\n",
    "            Y = int(-(x-center_x)*np.sin(seta)+\n",
    "                    (y-center_y)*np.cos(seta))+center_y\n",
    "        \n",
    "            if (X<0)|(X>=width)|(Y<0)|(Y>=height):\n",
    "                continue\n",
    "            img_[Y,X] = img[y,x]\n",
    "\n",
    "    for y in range(height-1):\n",
    "        for x in range(width-1):\n",
    "            if img_[y,x] == 0:\n",
    "                outer = [img_[y-1,x-1],img_[y-1,x],img_[y-1,x+1],\n",
    "                         img_[y  ,x-1],             img_[y  ,x+1],\n",
    "                         img_[y+1,x-1],img_[y+1,x],img_[y+1,x+1]]\n",
    "    return img_"
   ]
  },
  {
   "cell_type": "code",
   "execution_count": 26,
   "metadata": {},
   "outputs": [],
   "source": [
    "import cv2\n",
    "img = cv2.imread('lena.jpg',0)\n",
    "img_pro(rotate_2,img)\n"
   ]
  },
  {
   "cell_type": "markdown",
   "metadata": {},
   "source": [
    "## Affine 변환"
   ]
  },
  {
   "cell_type": "markdown",
   "metadata": {},
   "source": [
    "### Affine 변환"
   ]
  },
  {
   "cell_type": "code",
   "execution_count": null,
   "metadata": {},
   "outputs": [],
   "source": []
  },
  {
   "cell_type": "markdown",
   "metadata": {},
   "source": [
    "## Perspective 변환"
   ]
  },
  {
   "cell_type": "code",
   "execution_count": null,
   "metadata": {},
   "outputs": [],
   "source": []
  },
  {
   "cell_type": "markdown",
   "metadata": {},
   "source": [
    "# 윤곽선 검출"
   ]
  },
  {
   "cell_type": "markdown",
   "metadata": {},
   "source": [
    "## 윤곽선 추출 필터"
   ]
  },
  {
   "cell_type": "markdown",
   "metadata": {},
   "source": [
    "### 샤픈 필터 예제"
   ]
  },
  {
   "cell_type": "code",
   "execution_count": 2,
   "metadata": {},
   "outputs": [],
   "source": [
    "import hanscv\n",
    "import cv2\n",
    "import numpy as np\n",
    "\n",
    "def shappen(img):\n",
    "    A = np.zeros(img.shape, dtype = np.uint8)\n",
    "    for y in range(img.shape[0]):\n",
    "        for x in range(img.shape[1]):\n",
    "            try:\n",
    "                S = 0*img[y-1, x-1]  + -1*img[y-1, x  ]  +   0*img[y-1, x+1] \\\n",
    "                +  -1*img[y  , x-1]  +  5*img[y  , x  ]  +  -1*img[y  , x+1] \\\n",
    "                +   0*img[y+1, x-1]  + -1*img[y+1, x  ]  +   0*img[y+1, x+1]\n",
    "                if S > 255:\n",
    "                    A[y,x] = 255\n",
    "                elif S < 0:\n",
    "                    A[y,x] = 0\n",
    "                else:\n",
    "                    A[y,x] = S\n",
    "                    \n",
    "            except:\n",
    "                pass\n",
    "    return A"
   ]
  },
  {
   "cell_type": "code",
   "execution_count": 3,
   "metadata": {},
   "outputs": [],
   "source": [
    "img = cv2.imread('lena.jpg',cv2.IMREAD_GRAYSCALE)\n",
    "img.shape\n",
    "shappen_img = shappen(img)\n",
    "cv2.imshow('img',img)\n",
    "cv2.imshow('shappen',shappen_img)\n",
    "cv2.waitKey()\n",
    "cv2.destroyAllWindows()"
   ]
  },
  {
   "cell_type": "markdown",
   "metadata": {},
   "source": [
    "## 윤곽선 추출 필터"
   ]
  },
  {
   "cell_type": "markdown",
   "metadata": {},
   "source": [
    "### 차분필터"
   ]
  },
  {
   "cell_type": "code",
   "execution_count": 23,
   "metadata": {},
   "outputs": [],
   "source": [
    "import hanscv\n",
    "import cv2\n",
    "import numpy as np\n",
    "\n",
    "def diff_filter(img):\n",
    "    height, width = img.shape\n",
    "    img_ = np.zeros(img.shape, dtype = np.uint8)\n",
    "    for y in range(height):\n",
    "        for x in range(width):\n",
    "            try:\n",
    "                H = 0*img[y-1, x-1]  +  0*img[y-1, x  ]  +   0*img[y-1, x+1] \\\n",
    "                +   0*img[y  , x-1]  +  1*img[y  , x  ]  +  -1*img[y  , x+1] \\\n",
    "                +   0*img[y+1, x-1]  +  0*img[y+1, x  ]  +   0*img[y+1, x+1]\n",
    "                V = 0*img[y-1, x-1]  +  0*img[y-1, x  ]  +   0*img[y-1, x+1] \\\n",
    "                +   0*img[y  , x-1]  +  1*img[y  , x  ]  +  0*img[y  , x+1] \\\n",
    "                +   0*img[y+1, x-1]  + -1*img[y+1, x  ]  +   0*img[y+1, x+1]\n",
    "                img_[y,x] = np.sqrt(H**2 + V**2)\n",
    "            except:\n",
    "                pass\n",
    "    return img_"
   ]
  },
  {
   "cell_type": "code",
   "execution_count": null,
   "metadata": {},
   "outputs": [],
   "source": [
    "img = cv2.imread('lena.jpg',cv2.IMREAD_GRAYSCALE)\n",
    "img.shape\n",
    "diff_img = diff_filter(img)\n",
    "cv2.imshow('img',img)\n",
    "cv2.imshow('diff_img',diff_img)\n",
    "cv2.waitKey()\n",
    "cv2.destroyAllWindows()"
   ]
  },
  {
   "cell_type": "markdown",
   "metadata": {},
   "source": [
    "### 로버츠 필터"
   ]
  },
  {
   "cell_type": "code",
   "execution_count": 24,
   "metadata": {},
   "outputs": [],
   "source": [
    "import hanscv\n",
    "import cv2\n",
    "import numpy as np\n",
    "\n",
    "def roverts_filter(img):\n",
    "    height, width = img.shape\n",
    "    img_ = np.zeros(img.shape, dtype = np.uint8)\n",
    "    for y in range(height):\n",
    "        for x in range(width):\n",
    "            try:\n",
    "                H = 0*img[y-1, x-1]  +  0*img[y-1, x  ]  +   0*img[y-1, x+1] \\\n",
    "                +   0*img[y  , x-1]  +  1*img[y  , x  ]  +   0*img[y  , x+1] \\\n",
    "                +   0*img[y+1, x-1]  +  0*img[y+1, x  ]  +  -1*img[y+1, x+1]\n",
    "                V = 0*img[y-1, x-1]  +  0*img[y-1, x  ]  +   0*img[y-1, x+1] \\\n",
    "                +   0*img[y  , x-1]  +  0*img[y  , x  ]  +   1*img[y  , x+1] \\\n",
    "                +   0*img[y+1, x-1]  + -1*img[y+1, x  ]  +   0*img[y+1, x+1]\n",
    "                img_[y,x] = np.sqrt(H**2 + V**2)\n",
    "            except:\n",
    "                pass\n",
    "    return img_"
   ]
  },
  {
   "cell_type": "code",
   "execution_count": 25,
   "metadata": {},
   "outputs": [],
   "source": [
    "img = cv2.imread('lena.jpg',cv2.IMREAD_GRAYSCALE)\n",
    "img.shape\n",
    "roverts_img = roverts_filter(img)\n",
    "cv2.imshow('img',img)\n",
    "cv2.imshow('roverts_img',roverts_img)\n",
    "cv2.waitKey()\n",
    "cv2.destroyAllWindows()"
   ]
  },
  {
   "cell_type": "markdown",
   "metadata": {},
   "source": [
    "### 프리위트 필터"
   ]
  },
  {
   "cell_type": "code",
   "execution_count": null,
   "metadata": {},
   "outputs": [],
   "source": [
    "import hanscv\n",
    "import cv2\n",
    "import numpy as np\n",
    "\n",
    "def prewitt_filter(img):\n",
    "    height, width = img.shape\n",
    "    img_ = np.zeros(img.shape, dtype = np.uint8)\n",
    "    for y in range(height):\n",
    "        for x in range(width):\n",
    "            try:\n",
    "                H = 1*img[y-1, x-1]  +  0*img[y-1, x  ]  +  -1*img[y-1, x+1] \\\n",
    "                +   1*img[y  , x-1]  +  0*img[y  , x  ]  +  -1*img[y  , x+1] \\\n",
    "                +   1*img[y+1, x-1]  +  0*img[y+1, x  ]  +  -1*img[y+1, x+1]\n",
    "\n",
    "                V = 1*img[y-1, x-1]  +  1*img[y-1, x  ]  +   1*img[y-1, x+1] \\\n",
    "                +   0*img[y  , x-1]  +  0*img[y  , x  ]  +   0*img[y  , x+1] \\\n",
    "                +  -1*img[y+1, x-1]  + -1*img[y+1, x  ]  +  -1*img[y+1, x+1]\n",
    "                img_[y,x] = np.sqrt(H**2 + V**2)\n",
    "            except:\n",
    "                pass\n",
    "    return img_"
   ]
  },
  {
   "cell_type": "code",
   "execution_count": null,
   "metadata": {},
   "outputs": [],
   "source": [
    "img = cv2.imread('lena.jpg',cv2.IMREAD_GRAYSCALE)\n",
    "img.shape\n",
    "prewitt_img = prewitt_filter(img)\n",
    "cv2.imshow('img',img)\n",
    "cv2.imshow('prewitt_img',prewitt_img)\n",
    "cv2.waitKey()\n",
    "cv2.destroyAllWindows()"
   ]
  },
  {
   "cell_type": "markdown",
   "metadata": {},
   "source": [
    "### 소벨필터"
   ]
  },
  {
   "cell_type": "code",
   "execution_count": null,
   "metadata": {},
   "outputs": [],
   "source": [
    "import hanscv\n",
    "import cv2\n",
    "import numpy as np\n",
    "\n",
    "def sovel_filter(img):\n",
    "    height, width = img.shape\n",
    "    img_ = np.zeros(img.shape, dtype = np.uint8)\n",
    "    for y in range(height):\n",
    "        for x in range(width):\n",
    "            try:\n",
    "                H = 1*img[y-1, x-1]  +  0*img[y-1, x  ]  +  -1*img[y-1, x+1] \\\n",
    "                +   2*img[y  , x-1]  +  0*img[y  , x  ]  +  -2*img[y  , x+1] \\\n",
    "                +   1*img[y+1, x-1]  +  0*img[y+1, x  ]  +  -1*img[y+1, x+1]\n",
    "                V = 1*img[y-1, x-1]  +  2*img[y-1, x  ]  +   1*img[y-1, x+1] \\\n",
    "                +   0*img[y  , x-1]  +  0*img[y  , x  ]  +   0*img[y  , x+1] \\\n",
    "                +  -1*img[y+1, x-1]  + -2*img[y+1, x  ]  +  -1*img[y+1, x+1]\n",
    "                img_[y,x] = np.sqrt(H**2 + V**2)\n",
    "            except:\n",
    "                pass\n",
    "    return img_"
   ]
  },
  {
   "cell_type": "code",
   "execution_count": null,
   "metadata": {},
   "outputs": [],
   "source": [
    "img = cv2.imread('lena.jpg',cv2.IMREAD_GRAYSCALE)\n",
    "img.shape\n",
    "sovel_img = sovel_filter(img)\n",
    "cv2.imshow('img',img)\n",
    "cv2.imshow('sovel_img',sovel_img)\n",
    "cv2.waitKey()\n",
    "cv2.destroyAllWindows()"
   ]
  },
  {
   "cell_type": "markdown",
   "metadata": {},
   "source": [
    "### 라플라시안 필터"
   ]
  },
  {
   "cell_type": "code",
   "execution_count": null,
   "metadata": {},
   "outputs": [],
   "source": [
    "import hanscv\n",
    "import cv2\n",
    "import numpy as np\n",
    "\n",
    "def laplacian1_filter(img):\n",
    "    height, width = img.shape\n",
    "    img_ = np.zeros(img.shape, dtype = np.uint8)\n",
    "    for y in range(height):\n",
    "        for x in range(width):\n",
    "            try:\n",
    "                T = 0*img[y-1, x-1]  +  1*img[y-1, x  ]  +  0*img[y-1, x+1] \\\n",
    "                +   1*img[y  , x-1]  + -4*img[y  , x  ]  +  1*img[y  , x+1] \\\n",
    "                +   0*img[y+1, x-1]  +  1*img[y+1, x  ]  +  0*img[y+1, x+1]\n",
    " \n",
    "                img_[y,x] = np.abt(T)\n",
    "            except:\n",
    "                pass\n",
    "    return img_"
   ]
  },
  {
   "cell_type": "code",
   "execution_count": null,
   "metadata": {},
   "outputs": [],
   "source": [
    "img = cv2.imread('lena.jpg',cv2.IMREAD_GRAYSCALE)\n",
    "img.shape\n",
    "laplacian1_img = laplacian1_filter(img)\n",
    "cv2.imshow('img',img)\n",
    "cv2.imshow('laplacian1_img',laplacian1_img)\n",
    "cv2.waitKey()\n",
    "cv2.destroyAllWindows()"
   ]
  },
  {
   "cell_type": "markdown",
   "metadata": {},
   "source": [
    "### conv2D"
   ]
  },
  {
   "cell_type": "code",
   "execution_count": 30,
   "metadata": {},
   "outputs": [],
   "source": [
    "def Conv2D(img, mask=None, padding='valid'): # mask: 필터, padding: same/valid > valid : 시작할 때 \n",
    "    img_out = np.zeros(img.shape, dtype=np.uint8)\n",
    "    if mask is not None:\n",
    "#         stride = mask.shape\n",
    "        sy, sx = int(len(mask)/2), int(len(mask[0])/2)\n",
    "#         print(sy,sx)\n",
    "        if padding==\"same\":\n",
    "            pass\n",
    "        elif padding==\"valid\":\n",
    "            height, width = img_out.shape\n",
    "            for y in range(sy, height-sy):\n",
    "                for x in range(sx, width-sx):\n",
    "                    roi = img[y-sy:y+sy+1, x-sx:x+sx+1]\n",
    "                    filtered = roi * mask\n",
    "                    img_out[y,x] = np.uint8(np.abs(np.sum(filtered)))\n",
    "            return img_out\n",
    "    else:\n",
    "        print(\"Mask array not found!\")\n",
    "    return img_out"
   ]
  },
  {
   "cell_type": "code",
   "execution_count": 31,
   "metadata": {},
   "outputs": [],
   "source": [
    "img = cv2.imread('lena.jpg',cv2.IMREAD_GRAYSCALE)\n",
    "mask = np.array([[0,0,0],[0,1,-1],[0,0,0]])\n",
    "cv2.imshow('Lena',Conv2D(img,mask = mask))\n",
    "cv2.waitKey()\n",
    "cv2.destroyAllWindows()"
   ]
  },
  {
   "cell_type": "markdown",
   "metadata": {},
   "source": [
    "## 캐니엣지"
   ]
  },
  {
   "cell_type": "code",
   "execution_count": 8,
   "metadata": {},
   "outputs": [],
   "source": [
    "import hanscv\n",
    "import cv2\n",
    "import numpy as np\n",
    "\n",
    "img = cv2.imread('lena.jpg',cv2.IMREAD_GRAYSCALE)\n",
    "edges = cv2.Canny(img,50,120)\n",
    "\n",
    "cv2.imshow('Lena',img)\n",
    "cv2.imshow('edge',edges)\n",
    "cv2.waitKey()\n",
    "cv2.destroyAllWindows()"
   ]
  },
  {
   "cell_type": "markdown",
   "metadata": {},
   "source": [
    "# 화질개선"
   ]
  },
  {
   "cell_type": "markdown",
   "metadata": {},
   "source": [
    "## 잡음제거"
   ]
  },
  {
   "cell_type": "markdown",
   "metadata": {},
   "source": [
    "### 이동평균법\n",
    " p217 평균블러링"
   ]
  },
  {
   "cell_type": "code",
   "execution_count": 13,
   "metadata": {},
   "outputs": [],
   "source": [
    "import numpy as np\n",
    "\n",
    "def mean_blur(img):\n",
    "    A = np.zeros(img.shape, dtype = np.uint8)\n",
    "    height, width = img.shape\n",
    "    for y in range(height):\n",
    "        for x in range(width):\n",
    "            try:\n",
    "                S = 1*img[y-1, x-1] + img[y-1, x  ]  + img[y-1, x+1] \\\n",
    "                +     img[y  , x-1]  + img[y  , x  ]  + img[y  , x+1] \\\n",
    "                +     img[y+1, x-1]  + img[y+1, x  ]  + img[y+1, x+1]\n",
    "                S = S/9\n",
    "                # 나누어서 float 되어버림\n",
    "                if S > 255:\n",
    "                    A[y,x] = 255\n",
    "                elif S < 0:\n",
    "                    A[y,x] = 0\n",
    "                else:\n",
    "                    A[y,x] = int(S)\n",
    "                    # float를 int로 바꾸어줌\n",
    "            except:\n",
    "                pass\n",
    "            \n",
    "    return A\n",
    " "
   ]
  },
  {
   "cell_type": "code",
   "execution_count": 14,
   "metadata": {},
   "outputs": [],
   "source": [
    "import hanscv\n",
    "import cv2\n",
    "import numpy as np\n",
    "\n",
    "img = cv2.imread(\"lena.jpg\",cv2.IMREAD_GRAYSCALE)\n",
    "mean_blur(img)\n",
    "hanscv.iwd(\"img\",img)"
   ]
  },
  {
   "cell_type": "markdown",
   "metadata": {},
   "source": [
    "### 메디안 필터"
   ]
  },
  {
   "cell_type": "code",
   "execution_count": 16,
   "metadata": {},
   "outputs": [],
   "source": [
    "import numpy as np\n",
    "\n",
    "\n",
    "def median_blur(img):\n",
    "    A = np.zeros(img.shape, dtype = np.uint8)\n",
    "    height, width = img.shape[:2]\n",
    "    \n",
    "    for y in range(height):\n",
    "        for x in range(width):\n",
    "            try:\n",
    "                S = [img[y-1, x-1], img[y-1, x  ], img[y-1, x+1],\n",
    "                     img[y  , x-1], img[y  , x  ], img[y  , x+1], \n",
    "                     img[y+1, x-1], img[y+1, x  ], img[y+1, x+1]]\n",
    "                A[y,x]= np.median(S)\n",
    "            except:\n",
    "                pass\n",
    "    return A"
   ]
  },
  {
   "cell_type": "code",
   "execution_count": 18,
   "metadata": {},
   "outputs": [],
   "source": [
    "from scipy import ndimage\n",
    "import hanscv\n",
    "\n",
    "lena_gray = cv2.imread(\"lena.jpg\", cv2.IMREAD_GRAYSCALE)\n",
    "result = ndimage.median_filter(lena_gray, size =3)\n",
    "hanscv.iwd(\"Lena\",median_blur(result))\n"
   ]
  },
  {
   "cell_type": "markdown",
   "metadata": {},
   "source": [
    "### 가우시안 필터"
   ]
  },
  {
   "cell_type": "code",
   "execution_count": null,
   "metadata": {},
   "outputs": [],
   "source": [
    "def gaussian_blur(img):\n",
    "    img_ = np.zeros(img.shape, dtype = np.uint8)\n",
    "    height, width = img.shape\n",
    "    for y in range(height):\n",
    "        for x in range(width):\n",
    "            try:\n",
    "                T = 1*img[y-1, x-1]  + 2*img[y-1, x  ]  + 1*img[y-1, x+1] \\\n",
    "                +   2*img[y  , x-1]  + 4*img[y  , x  ]  + 2*img[y  , x+1] \\\n",
    "                +   1*img[y+1, x-1]  + 2*img[y+1, x  ]  + 1*img[y+1, x+1]\n",
    "                img_[y,x] = (T)/16\n",
    "            except:\n",
    "                pass\n",
    "    return img_"
   ]
  },
  {
   "cell_type": "code",
   "execution_count": null,
   "metadata": {},
   "outputs": [],
   "source": [
    "from scipy import ndimage\n",
    "import hanscv\n",
    "\n",
    "lena_gray = cv2.imread(\"lena.jpg\", cv2.IMREAD_GRAYSCALE)\n",
    "result = ndimage.median_filter(lena_gray, size =3)\n",
    "hanscv.iwd(\"Lena\",median_blur(result))"
   ]
  },
  {
   "cell_type": "markdown",
   "metadata": {},
   "source": [
    "### 수축과 팽창"
   ]
  },
  {
   "cell_type": "code",
   "execution_count": 46,
   "metadata": {},
   "outputs": [],
   "source": [
    "import numpy as np\n",
    "import hanscv\n",
    "import cv2\n",
    "\n",
    "def constraction(img_in):\n",
    "    height, width = img_in.shape\n",
    "    img_out = np.zeros(img_in.shape, np.uint8)\n",
    "    for y in range(1,height-1):\n",
    "        for x in range(1,width-1):\n",
    "            img_out[y,x] = img_in[y,x]\n",
    "            if img_in[y-1,x-1]==0:\n",
    "                img_out[y,x] = 0\n",
    "            if img_in[y-1,x  ]==0:\n",
    "                img_out[y,x] = 0\n",
    "            if img_in[y-1,x+1]==0:\n",
    "                img_out[y,x] = 0            \n",
    "            if img_in[y  ,x-1]==0:\n",
    "                img_out[y,x] = 0            \n",
    "            if img_in[y  ,x+1]==0:\n",
    "                img_out[y,x] = 0            \n",
    "            if img_in[y+1,x-1]==0:\n",
    "                img_out[y,x] = 0            \n",
    "            if img_in[y+1,x  ]==0:\n",
    "                img_out[y,x] = 0            \n",
    "            if img_in[y+1,x+1]==0:\n",
    "                img_out[y,x] = 0            \n",
    "    return img_out         \n",
    "            "
   ]
  },
  {
   "cell_type": "code",
   "execution_count": 47,
   "metadata": {},
   "outputs": [],
   "source": [
    "import numpy as np\n",
    "import hanscv\n",
    "import cv2\n",
    "\n",
    "def expansion(img_in):\n",
    "    height, width = img_in.shape\n",
    "    img_out = np.zeros(img_in.shape, np.uint8)\n",
    "    for y in range(1,height-1):\n",
    "        for x in range(1,width-1):\n",
    "            img_out[y,x] = img_in[y,x]\n",
    "            if img_in[y-1,x-1]==255:\n",
    "                img_out[y,x] = 255\n",
    "            if img_in[y-1,x  ]==255:\n",
    "                img_out[y,x] = 255\n",
    "            if img_in[y-1,x+1]==255:\n",
    "                img_out[y,x] = 255            \n",
    "            if img_in[y  ,x-1]==255:\n",
    "                img_out[y,x] = 255            \n",
    "            if img_in[y  ,x+1]==255:\n",
    "                img_out[y,x] = 255            \n",
    "            if img_in[y+1,x-1]==255:\n",
    "                img_out[y,x] = 255            \n",
    "            if img_in[y+1,x  ]==255:\n",
    "                img_out[y,x] = 255            \n",
    "            if img_in[y+1,x+1]==255:\n",
    "                img_out[y,x] = 255            \n",
    "    return img_out  "
   ]
  },
  {
   "cell_type": "code",
   "execution_count": 48,
   "metadata": {},
   "outputs": [],
   "source": [
    "import numpy as np\n",
    "import hanscv\n",
    "import cv2\n",
    "\n",
    "img5 = cv2.imread(\"five.png\",cv2.IMREAD_GRAYSCALE)\n",
    "\n",
    "hanscv.iwd(\"5\",img5)\n",
    "\n",
    "img5_cont = hanscv.img_pro(constraction,img5,output=False)\n",
    "hanscv.img_pro(expansion,img5_cont)\n",
    "\n",
    "img5_expa = hanscv.img_pro(expansion,img5,output=False)\n",
    "hanscv.img_pro(constraction,img5_expa)\n"
   ]
  },
  {
   "cell_type": "code",
   "execution_count": 59,
   "metadata": {},
   "outputs": [],
   "source": [
    "# 236~243\n",
    "# 6.3.2 팽창연산\n",
    "\n",
    "import cv2\n",
    "import numpy as np\n",
    "import hanscv\n",
    "\n",
    "img = cv2.imread(\"five.png\")\n",
    "\n",
    "k = cv2.getStructuringElement(cv2.MORPH_RECT, (3,3))\n",
    "dst = cv2.dilate(img, k)\n",
    "\n",
    "merged = np.hstack((img, dst))\n",
    "hanscv.iwd(\"Dilation\",merged)"
   ]
  },
  {
   "cell_type": "markdown",
   "metadata": {},
   "source": [
    "### 히스토그램과 밝기값 조절"
   ]
  },
  {
   "cell_type": "code",
   "execution_count": 13,
   "metadata": {},
   "outputs": [],
   "source": [
    "import cv2\n",
    "import numpy as np\n",
    "import hanscv\n",
    "\n",
    "def histogram(img):\n",
    "    height, width = img.shape\n",
    "    hist = np.zeros(256)\n",
    "    for y in range(height):\n",
    "        for x in range(width):\n",
    "            hist[img[y,x]] = hist[img[y,x]]+1\n",
    "    return hist"
   ]
  },
  {
   "cell_type": "code",
   "execution_count": 2,
   "metadata": {},
   "outputs": [],
   "source": [
    "import cv2\n",
    "import numpy as np\n",
    "import hanscv\n",
    "\n",
    "def brightness(img, threshold = 0):\n",
    "    height, width = img.shape\n",
    "    img_= np.zeros(img.shape, dtype = np.uint8)\n",
    "    \n",
    "    for y in range(height):\n",
    "        for x in range(width):\n",
    "            temp = img[y][x] + threshold\n",
    "            if  (temp>255):\n",
    "                img_[y][x] = 255\n",
    "            elif(temp < 0):\n",
    "                img_[y][x] = 0\n",
    "            else:\n",
    "                img_[y][x] = temp\n",
    "                \n",
    "    return img_"
   ]
  },
  {
   "cell_type": "code",
   "execution_count": 26,
   "metadata": {
    "scrolled": true
   },
   "outputs": [
    {
     "data": {
      "text/plain": [
       "<BarContainer object of 256 artists>"
      ]
     },
     "execution_count": 26,
     "metadata": {},
     "output_type": "execute_result"
    },
    {
     "data": {
      "image/png": "[encoded data removed]",
      "text/plain": [
       "<Figure size 432x288 with 1 Axes>"
      ]
     },
     "metadata": {
      "needs_background": "light"
     },
     "output_type": "display_data"
    }
   ],
   "source": [
    "import cv2\n",
    "import numpy as np\n",
    "import hanscv\n",
    "from matplotlib import pyplot as plt\n",
    "\n",
    "img = cv2.imread(\"couple2.jpg\", cv2.IMREAD_GRAYSCALE)\n",
    "hanscv.img_pro(brightness, img, threshold=50)\n",
    "    \n",
    "    \n",
    "img2 = hanscv.img_pro(brightness, img, threshold=50, output =False)\n",
    "img3= np.c_[img,img2]\n",
    "img4= np.r_[img,img2]\n",
    "hanscv.iwd(\"show_horizontal\",img3)\n",
    "hanscv.iwd(\"show_vertical\",img4)\n",
    "#이미지 한 창에 보고싶으면 두개를 np.c_로 합쳐서 보여주면됨.\n",
    "\n"
   ]
  },
  {
   "cell_type": "code",
   "execution_count": null,
   "metadata": {},
   "outputs": [],
   "source": [
    "plt.plot(histogram(img))\n",
    "plt.bar(range(256),histogram(img))"
   ]
  },
  {
   "cell_type": "markdown",
   "metadata": {},
   "source": [
    "## 콘트라스트 강조"
   ]
  },
  {
   "cell_type": "markdown",
   "metadata": {},
   "source": [
    "### 콘트라스트 강조"
   ]
  },
  {
   "cell_type": "code",
   "execution_count": 27,
   "metadata": {},
   "outputs": [],
   "source": [
    "import cv2\n",
    "import numpy as np\n",
    "import hanscv\n",
    "from matplotlib import pyplot as plt\n",
    "\n",
    "def contrast(img, low=0, high =255):\n",
    "    height, width = img.shape\n",
    "    img_ = np.zeros(img.shape, dtype = np.uint8)\n",
    "    \n",
    "    for y in range(height):\n",
    "        for x in range(width):\n",
    "            temp = (int)((255/(high-low))*(img[y][x]-low))\n",
    "            if(temp>255):\n",
    "                img_[y][x] = 255\n",
    "            elif(temp<0):\n",
    "                img_[y][x] = 0\n",
    "            else:\n",
    "                img_[y][x] = temp\n",
    "    return img_"
   ]
  },
  {
   "cell_type": "markdown",
   "metadata": {},
   "source": [
    "## 히스토그램 평활화"
   ]
  },
  {
   "cell_type": "markdown",
   "metadata": {},
   "source": [
    "### 히스토그램 평활화"
   ]
  },
  {
   "cell_type": "code",
   "execution_count": 32,
   "metadata": {},
   "outputs": [],
   "source": [
    "import cv2\n",
    "import numpy as np\n",
    "import hanscv\n",
    "from matplotlib import pyplot as plt\n",
    "\n",
    "def equalization(img):\n",
    "    height, width = img.shape\n",
    "    img_in = img.copy()\n",
    "    img_out = np.zeros(img_in.shape,dtype = uint8)\n",
    "    histogram = np.zeros(255, dtype=int)\n",
    "    sum_insto = np.zeros(256, dtype=int)\n",
    "    \n",
    "    for y in range(height):\n",
    "        for x in range(width):\n",
    "            histogram[img_in[y,x]] = histogram[img_in[y,x]]+1\n",
    "            \n",
    "    sum = 0\n",
    "    scale_factor = 255/ (width *height)\n",
    "    for i in range(256):\n",
    "        sum = sum + histogram[i]\n",
    "        sum_histo[i] = np.ceil(sum*scale_factor)\n",
    "        \n",
    "    for y in range(height):\n",
    "        for x in range(width):\n",
    "            img_out[y,x] = sum_hist[img_in[y][x]]\n",
    "    return img_out"
   ]
  },
  {
   "cell_type": "markdown",
   "metadata": {},
   "source": [
    "### Numpy를 이용한 히스토그램 평활화"
   ]
  },
  {
   "cell_type": "code",
   "execution_count": 31,
   "metadata": {},
   "outputs": [
    {
     "data": {
      "text/plain": [
       "<function matplotlib.pyplot.show(*args, **kw)>"
      ]
     },
     "execution_count": 31,
     "metadata": {},
     "output_type": "execute_result"
    },
    {
     "data": {
      "image/png": "[encoded data removed]",
      "text/plain": [
       "<Figure size 432x288 with 2 Axes>"
      ]
     },
     "metadata": {
      "needs_background": "light"
     },
     "output_type": "display_data"
    }
   ],
   "source": [
    "import cv2\n",
    "import numpy as np\n",
    "import hanscv\n",
    "from matplotlib import pyplot as plt\n",
    "\n",
    "img = cv2.imread('couple2.jpg')\n",
    "\n",
    "hist, bins = np.histogram(img.flatten(),256,[0,256])\n",
    "cdf = hist.cumsum()\n",
    "\n",
    "cdf_m = np.ma.masked_equal(cdf,0)\n",
    "cdf_m = (cdf_m - cdf_m.min())*255/(cdf_m.max()-cdf_m.min())\n",
    "\n",
    "cdf =np.ma.filled(cdf_m,0).astype('uint8')\n",
    "\n",
    "img2 = cdf[img]\n",
    "plt.subplot(121),plt.imshow(img),plt.title('Original')\n",
    "plt.subplot(122),plt.imshow(img2),plt.title('Equalization')\n",
    "plt.show\n",
    "\n"
   ]
  },
  {
   "cell_type": "markdown",
   "metadata": {},
   "source": [
    "### cv2.equalizeHist()"
   ]
  },
  {
   "cell_type": "code",
   "execution_count": 33,
   "metadata": {},
   "outputs": [],
   "source": [
    "import cv2\n",
    "import hanscv as hc\n",
    "img = cv2.imread(\"couple2.jpg\", 0)\n",
    "img_ = cv2.equalizeHist(img)\n",
    "hc.iwd(\"Flatening\",img_)"
   ]
  },
  {
   "cell_type": "markdown",
   "metadata": {},
   "source": [
    "### 히스토그램 평활화 전/후"
   ]
  },
  {
   "cell_type": "code",
   "execution_count": 34,
   "metadata": {},
   "outputs": [],
   "source": [
    "img = cv2.imread(\"couple2.jpg\", cv2.IMREAD_GRAYSCALE)\n",
    "hist1 = cv2.calcHist(images = [img], channels=[0], mask = None,\n",
    "                    histSize=[256], ranges=[0,256])\n",
    "img2 = cv2.equalizeHist(img)\n",
    "hist2 =  cv2.calcHist(images = [img2], channels=[0], mask = None,\n",
    "                    histSize=[256], ranges=[0,256])"
   ]
  },
  {
   "cell_type": "code",
   "execution_count": 36,
   "metadata": {},
   "outputs": [
    {
     "data": {
      "image/png": "[encoded data removed]",
      "text/plain": [
       "<Figure size 1080x288 with 2 Axes>"
      ]
     },
     "metadata": {
      "needs_background": "light"
     },
     "output_type": "display_data"
    }
   ],
   "source": [
    "plt.figure(figsize = (15,4))\n",
    "plt.subplot(121); plt.imshow(img, cmap = \"gray\"); plt.title(\"Before\")\n",
    "plt.subplot(122); plt.imshow(img2, cmap = \"gray\"); plt.title(\"After\")\n",
    "plt.show()"
   ]
  },
  {
   "cell_type": "code",
   "execution_count": 38,
   "metadata": {},
   "outputs": [
    {
     "data": {
      "image/png": "[encoded data removed]",
      "text/plain": [
       "<Figure size 1080x288 with 2 Axes>"
      ]
     },
     "metadata": {
      "needs_background": "light"
     },
     "output_type": "display_data"
    }
   ],
   "source": [
    "plt.figure(figsize = (15,4))\n",
    "plt.subplot(121); plt.bar(range(256), hist1.flatten()); plt.title(\"Before\")\n",
    "plt.subplot(122); plt.bar(range(256), hist2.flatten()); plt.title(\"After\")\n",
    "plt.show()"
   ]
  },
  {
   "cell_type": "markdown",
   "metadata": {},
   "source": [
    "### CLAHE"
   ]
  },
  {
   "cell_type": "code",
   "execution_count": 39,
   "metadata": {},
   "outputs": [],
   "source": [
    "import cv2\n",
    "import numpy as np\n",
    "from matplotlib import pyplot as plt\n",
    "import hanscv as hc\n",
    "\n",
    "img =cv2.imread('couple2.jpg',0)\n",
    "\n",
    "\n",
    "clahe = cv2.createCLAHE(clipLimit=2.0, tileGridSize=(8,8))\n",
    "img2 = clahe.apply(img)\n",
    "\n",
    "img = cv2.resize(img,(400,400))\n",
    "img2 = cv2.resize(img2,(400,400))\n",
    "\n",
    "dst = np.hstack((img,img2))\n",
    "hc.iwd(\"dst\",dst)"
   ]
  },
  {
   "cell_type": "markdown",
   "metadata": {},
   "source": [
    "### 히스토그램 평탄화"
   ]
  },
  {
   "cell_type": "code",
   "execution_count": 57,
   "metadata": {},
   "outputs": [],
   "source": [
    "import numpy as np\n",
    "def flatening(img):\n",
    "    height, width = img.shape\n",
    "    img_in = img.copy()\n",
    "    img_out = np.zeros(img.shape,dtype = np.uint8)\n",
    "    histogram = np.zeros(256,dtype=int)\n",
    "    \n",
    "    for y in range(height):\n",
    "        for x in range(width):\n",
    "            histogram[img_in[y,x]] = histogram[img_in[y,x]]+1\n",
    "            \n",
    "    low = 255\n",
    "    high =255\n",
    "    delta = 0\n",
    "    avg_pixel_count = (int)((height*width)/256)\n",
    "    \n",
    "    for i in range(255,-1,-1):\n",
    "        sum = 0\n",
    "        while(sum< avg_pixel_count):\n",
    "            sum = sum+histogram[low]\n",
    "            low = low-1\n",
    "            \n",
    "        low = low+1\n",
    "        delta = histogram[low]-(sum-avg_pixel_count)\n",
    "        buffer = sort_by_weight(img_in, low, histogram[low])\n",
    "        \n",
    "        if(low<high):\n",
    "            for y in range(height):\n",
    "                for x in range(width):\n",
    "                    if (img_in[y,x]>=low+1) & (img_in[y,x]<=high):\n",
    "                        img_out[y,x] = i\n",
    "                        \n",
    "        for j in range(delta):\n",
    "            img_out[int(buffer[j].y), int(buffer[j].x)] = i\n",
    "            img_in[int(buffer[j].y), int(buffer[j].x)] = low+1\n",
    "            \n",
    "        histogram[low] = histogram[low]-delta\n",
    "        high = low\n",
    "        \n",
    "    return img_out\n",
    "        \n",
    "        \n",
    "        "
   ]
  },
  {
   "cell_type": "code",
   "execution_count": 52,
   "metadata": {},
   "outputs": [],
   "source": [
    "class SortedPixel():\n",
    "    def __init__(self,x,y,weight):\n",
    "        self.x = x\n",
    "        self.y = y\n",
    "        self.weight = weight\n",
    "        \n",
    "def sort_by_weight(pixels, level, count):\n",
    "    height, width = pixels.shape\n",
    "    data = []\n",
    "    inum = 0\n",
    "    weight = 0\n",
    "    \n",
    "    for y in range(height):\n",
    "        for x in range(width):\n",
    "            try:\n",
    "                if(pixels[y,x]==level):\n",
    "                    w = get_weight(pixels,x,y)\n",
    "                    data.append(SortedPixel(x,y,w))\n",
    "                    inum = inum +1\n",
    "                    \n",
    "            except:\n",
    "                pass\n",
    "            \n",
    "    from operator import attrgetter\n",
    "    data.sort(key=attrgetter('weight'))\n",
    "    \n",
    "    return data"
   ]
  },
  {
   "cell_type": "code",
   "execution_count": 53,
   "metadata": {},
   "outputs": [],
   "source": [
    "import numpy as np\n",
    "\n",
    "def get_weight(pixels,x,y):\n",
    "    weight = 0\n",
    "    xm = x-1\n",
    "    ym = y-1\n",
    "    xp = x+1\n",
    "    yp = y+1\n",
    "    d = np.zeros(8, dtype=int)\n",
    "    height, width = pixels.shape\n",
    "    \n",
    "    if (xm<0):\n",
    "        xm = x\n",
    "    if (ym<0):\n",
    "        ym=y\n",
    "    if(xp>=width):\n",
    "        xp=x\n",
    "    if(xp>=height):\n",
    "        yp=y\n",
    "        \n",
    "    d[0] = pixels[ym, xm]; d[1] = pixels[ym,x]; d[2] = pixels[ym,xp]\n",
    "    d[3] = pixels[y , xm];                      d[2] = pixels[y ,xp]\n",
    "    d[5] = pixels[yp, xm]; d[1] = pixels[yp,x]; d[2] = pixels[yp,xp]\n",
    "    \n",
    "    weight = np.sum(d)\n",
    "    \n",
    "    return weight;"
   ]
  },
  {
   "cell_type": "code",
   "execution_count": 58,
   "metadata": {},
   "outputs": [
    {
     "ename": "IndexError",
     "evalue": "list index out of range",
     "output_type": "error",
     "traceback": [
      "\u001b[1;31m---------------------------------------------------------------------------\u001b[0m",
      "\u001b[1;31mIndexError\u001b[0m                                Traceback (most recent call last)",
      "\u001b[1;32m<ipython-input-58-68767f201a3b>\u001b[0m in \u001b[0;36m<module>\u001b[1;34m\u001b[0m\n\u001b[0;32m      3\u001b[0m \u001b[1;33m\u001b[0m\u001b[0m\n\u001b[0;32m      4\u001b[0m \u001b[0mimg\u001b[0m \u001b[1;33m=\u001b[0m \u001b[0mcv2\u001b[0m\u001b[1;33m.\u001b[0m\u001b[0mimread\u001b[0m\u001b[1;33m(\u001b[0m\u001b[1;34m\"couple2.jpg\"\u001b[0m\u001b[1;33m,\u001b[0m\u001b[0mcv2\u001b[0m\u001b[1;33m.\u001b[0m\u001b[0mIMREAD_GRAYSCALE\u001b[0m\u001b[1;33m)\u001b[0m\u001b[1;33m\u001b[0m\u001b[1;33m\u001b[0m\u001b[0m\n\u001b[1;32m----> 5\u001b[1;33m \u001b[0mimg2\u001b[0m \u001b[1;33m=\u001b[0m \u001b[0mflatening\u001b[0m\u001b[1;33m(\u001b[0m\u001b[0mimg\u001b[0m\u001b[1;33m)\u001b[0m\u001b[1;33m\u001b[0m\u001b[1;33m\u001b[0m\u001b[0m\n\u001b[0m\u001b[0;32m      6\u001b[0m \u001b[1;33m\u001b[0m\u001b[0m\n\u001b[0;32m      7\u001b[0m \u001b[1;32mimport\u001b[0m \u001b[0mmaplotlib\u001b[0m\u001b[1;33m.\u001b[0m\u001b[0mpyplot\u001b[0m \u001b[1;32mas\u001b[0m \u001b[0mplt\u001b[0m\u001b[1;33m\u001b[0m\u001b[1;33m\u001b[0m\u001b[0m\n",
      "\u001b[1;32m<ipython-input-57-e406a6eac913>\u001b[0m in \u001b[0;36mflatening\u001b[1;34m(img)\u001b[0m\n\u001b[0;32m     32\u001b[0m \u001b[1;33m\u001b[0m\u001b[0m\n\u001b[0;32m     33\u001b[0m         \u001b[1;32mfor\u001b[0m \u001b[0mj\u001b[0m \u001b[1;32min\u001b[0m \u001b[0mrange\u001b[0m\u001b[1;33m(\u001b[0m\u001b[0mdelta\u001b[0m\u001b[1;33m)\u001b[0m\u001b[1;33m:\u001b[0m\u001b[1;33m\u001b[0m\u001b[1;33m\u001b[0m\u001b[0m\n\u001b[1;32m---> 34\u001b[1;33m             \u001b[0mimg_out\u001b[0m\u001b[1;33m[\u001b[0m\u001b[0mint\u001b[0m\u001b[1;33m(\u001b[0m\u001b[0mbuffer\u001b[0m\u001b[1;33m[\u001b[0m\u001b[0mj\u001b[0m\u001b[1;33m]\u001b[0m\u001b[1;33m.\u001b[0m\u001b[0my\u001b[0m\u001b[1;33m)\u001b[0m\u001b[1;33m,\u001b[0m \u001b[0mint\u001b[0m\u001b[1;33m(\u001b[0m\u001b[0mbuffer\u001b[0m\u001b[1;33m[\u001b[0m\u001b[0mj\u001b[0m\u001b[1;33m]\u001b[0m\u001b[1;33m.\u001b[0m\u001b[0mx\u001b[0m\u001b[1;33m)\u001b[0m\u001b[1;33m]\u001b[0m \u001b[1;33m=\u001b[0m \u001b[0mi\u001b[0m\u001b[1;33m\u001b[0m\u001b[1;33m\u001b[0m\u001b[0m\n\u001b[0m\u001b[0;32m     35\u001b[0m             \u001b[0mimg_in\u001b[0m\u001b[1;33m[\u001b[0m\u001b[0mint\u001b[0m\u001b[1;33m(\u001b[0m\u001b[0mbuffer\u001b[0m\u001b[1;33m[\u001b[0m\u001b[0mj\u001b[0m\u001b[1;33m]\u001b[0m\u001b[1;33m.\u001b[0m\u001b[0my\u001b[0m\u001b[1;33m)\u001b[0m\u001b[1;33m,\u001b[0m \u001b[0mint\u001b[0m\u001b[1;33m(\u001b[0m\u001b[0mbuffer\u001b[0m\u001b[1;33m[\u001b[0m\u001b[0mj\u001b[0m\u001b[1;33m]\u001b[0m\u001b[1;33m.\u001b[0m\u001b[0mx\u001b[0m\u001b[1;33m)\u001b[0m\u001b[1;33m]\u001b[0m \u001b[1;33m=\u001b[0m \u001b[0mlow\u001b[0m\u001b[1;33m+\u001b[0m\u001b[1;36m1\u001b[0m\u001b[1;33m\u001b[0m\u001b[1;33m\u001b[0m\u001b[0m\n\u001b[0;32m     36\u001b[0m \u001b[1;33m\u001b[0m\u001b[0m\n",
      "\u001b[1;31mIndexError\u001b[0m: list index out of range"
     ]
    }
   ],
   "source": [
    "import numpy as np\n",
    "import cv2\n",
    "\n",
    "img = cv2.imread(\"couple2.jpg\",cv2.IMREAD_GRAYSCALE)\n",
    "img2 = flatening(img)\n",
    "\n",
    "import maplotlib.pyplot as plt\n",
    "%matplotlib inline\n",
    "plt.figure(figsize = (10,5))\n",
    "plt.shbplot(121); plt.imshow(img, cmap=\"gray\"); plt.title(\"Before\")\n",
    "plt.subplot(122); plt.imshow(img2, cmap=\"gray\"); plt.title(\"After\")\n",
    "plt.show()"
   ]
  },
  {
   "cell_type": "markdown",
   "metadata": {},
   "source": [
    "# 특징추출"
   ]
  },
  {
   "cell_type": "code",
   "execution_count": null,
   "metadata": {},
   "outputs": [],
   "source": [
    "import cv2"
   ]
  },
  {
   "cell_type": "code",
   "execution_count": null,
   "metadata": {},
   "outputs": [],
   "source": [
    "def img_pro(func, img, *args, output=True, **kwargs):\n",
    "    img_ = func(img, *args, **kwargs)\n",
    "    if output:\n",
    "        cv2.imshow(\"Image\",img_)\n",
    "        cv2.waitKey()\n",
    "        cv2.destroyAllWindows()\n",
    "    else:\n",
    "        return img_"
   ]
  },
  {
   "cell_type": "code",
   "execution_count": null,
   "metadata": {},
   "outputs": [],
   "source": [
    "def img_pro2(func, img, *args, show=True, win=False, **kwargs):\n",
    "    img_=func(img, *args, **kwargs)\n",
    "    if show:\n",
    "        if win:\n",
    "            cv2.imshow(\"Image\",img_)\n",
    "            cv2.waitKey()\n",
    "            cv2.destroyAllWindows()\n",
    "        else:\n",
    "            fig, axes = plt.subplots(1,2)\n",
    "            axes[0].imshow(img, cmap=\"gray\")\n",
    "            axes[0].axis(\"off\"); axes[0].set_title(\"origin\")\n",
    "            axes[1].imshow(img_, cmap=\"gray\", interpolation=None)\n",
    "            axes[1].axis(\"off\"); axes[1].set_title(\"target\")\n",
    "    else:\n",
    "           return img_"
   ]
  },
  {
   "cell_type": "markdown",
   "metadata": {},
   "source": [
    "## contour"
   ]
  },
  {
   "cell_type": "markdown",
   "metadata": {},
   "source": [
    "### 라벨링"
   ]
  },
  {
   "cell_type": "code",
   "execution_count": null,
   "metadata": {},
   "outputs": [],
   "source": [
    "def labelset(img, xs, ys, label):\n",
    "    height, width = img.shape\n",
    "    img[ys, xs] = label\n",
    "    while True:\n",
    "        cnt = 0\n",
    "        \n",
    "        for y in range(1, height-1):\n",
    "            for x in range(1, width-1):\n",
    "                if img[y,x] == label:\n",
    "                    if img[y, x+1]  == 255:\n",
    "                        img[y, x+1]  = label\n",
    "                        cnt = cnt+1\n",
    "                    if img[y-1, x+1]  == 255:\n",
    "                        img[y-1, x+1]  = label\n",
    "                        cnt = cnt+1\n",
    "                    if img[y-1, x]  == 255:\n",
    "                        img[y-1, x]  = label\n",
    "                        cnt = cnt+1\n",
    "                    if img[y-1, x-1]  == 255:\n",
    "                        img[y-1, x-1]  = label\n",
    "                        cnt = cnt+1\n",
    "                    if img[y, x-1]  == 255:\n",
    "                        img[y, x-1]  = label\n",
    "                        cnt = cnt+1\n",
    "                    if img[y+1, x-1]  == 255:\n",
    "                        img[y+1, x-1]  = label\n",
    "                        cnt = cnt+1\n",
    "                    if img[y+1, x]  == 255:\n",
    "                        img[y+1, x]  = label\n",
    "                        cnt = cnt+1\n",
    "                    if img[y+1, x+1]  == 255:\n",
    "                        img[y+1, x+1]  = label\n",
    "                        cnt = cnt+1\n",
    "                        \n",
    "        if cnt==0:\n",
    "            return (0,img)\n",
    "    return (1,img)"
   ]
  },
  {
   "cell_type": "code",
   "execution_count": null,
   "metadata": {},
   "outputs": [],
   "source": [
    "def labeling(img_in, cnt):\n",
    "    height, width = img_in.shape\n",
    "    img_label = img_in.copy()\n",
    "    \n",
    "    label = 100\n",
    "    \n",
    "    for y in range(1, height-1):\n",
    "            for x in range(1, width-1):\n",
    "                if img_label[y,x] == 255:\n",
    "                    if label >= 255:\n",
    "                        print(\"Error! too many labels\")\n",
    "                        return -1\n",
    "                    \n",
    "                    _, img_label = labelset(img_label, x, y , label)\n",
    "                    label = label +1\n",
    "                \n",
    "    cnt = label -100\n",
    "    \n",
    "    return img_label,cnt"
   ]
  },
  {
   "cell_type": "code",
   "execution_count": null,
   "metadata": {},
   "outputs": [],
   "source": [
    "img = cv2.imread('shape.png',0)\n",
    "cv2.imshow('image',img)\n",
    "cv2.waitKey(0)\n",
    "cv2.destroyAllWindows()"
   ]
  },
  {
   "cell_type": "code",
   "execution_count": null,
   "metadata": {},
   "outputs": [],
   "source": [
    "img = cv2.imread('shape.png',0)\n",
    "ret, bin_img = cv2.threshold(img,128,255,cv2.THRESH_BINARY)\n",
    "labeled_img, cnt = labeling(bin_img, 100)\n",
    "cnt"
   ]
  },
  {
   "cell_type": "code",
   "execution_count": null,
   "metadata": {},
   "outputs": [],
   "source": [
    "labeled_img[80,100] , labeled_img[160,190], labeled_img[160,60]"
   ]
  },
  {
   "cell_type": "code",
   "execution_count": null,
   "metadata": {},
   "outputs": [],
   "source": [
    "cv2.imshow('image',labeled_img)\n",
    "cv2.waitKey(0)\n",
    "cv2.destroyAllWindows()"
   ]
  },
  {
   "cell_type": "code",
   "execution_count": null,
   "metadata": {},
   "outputs": [],
   "source": [
    "cv2.imwrite('shape_labeled.png', labeled_img)"
   ]
  },
  {
   "cell_type": "code",
   "execution_count": null,
   "metadata": {},
   "outputs": [],
   "source": [
    "img = cv2.imread('sample.png',0)\n",
    "ret, bin_img = cv2.threshold(img, 128, 255, cv2.THRESH_BINARY)\n",
    "cnt, labled_img = cv2.connectedComponents(bin_img)"
   ]
  },
  {
   "cell_type": "code",
   "execution_count": null,
   "metadata": {},
   "outputs": [],
   "source": [
    "labeled_img[80,100] , labeled_img[160,190], labeled_img[160,60]"
   ]
  },
  {
   "cell_type": "code",
   "execution_count": null,
   "metadata": {},
   "outputs": [],
   "source": [
    "labeled_img.dtype"
   ]
  },
  {
   "cell_type": "code",
   "execution_count": null,
   "metadata": {},
   "outputs": [],
   "source": [
    "labeled_img = labeled_img * 50"
   ]
  },
  {
   "cell_type": "code",
   "execution_count": null,
   "metadata": {},
   "outputs": [],
   "source": [
    "cv2.imshow('image',labeled_img.astype(np.uint8))\n",
    "cv2.waitKey(0)\n",
    "cv2.destroyAllWindows()"
   ]
  },
  {
   "cell_type": "markdown",
   "metadata": {},
   "source": [
    "### cv2.connectedComponents()"
   ]
  },
  {
   "cell_type": "markdown",
   "metadata": {},
   "source": [
    "### 면적과 중심 위치"
   ]
  },
  {
   "cell_type": "code",
   "execution_count": null,
   "metadata": {},
   "outputs": [],
   "source": [
    "def calc_size(image_label, label):\n",
    "    tx, ty = 0, 0\n",
    "    cv, cy = 0, 0\n",
    "    total = 0\n",
    "    height, width = image_label.shape\n",
    "    for y in range(height):\n",
    "        for x in range(width):\n",
    "            if image_label[y,x] == label:\n",
    "                tx = tx + x\n",
    "                ty = ty + y\n",
    "                total = total +1\n",
    "    if total == 0:\n",
    "        return 0\n",
    "    cx = int(tx/total)\n",
    "    cy = int(ty/total)\n",
    "    \n",
    "    return (cx, cy, total)"
   ]
  },
  {
   "cell_type": "code",
   "execution_count": null,
   "metadata": {},
   "outputs": [],
   "source": [
    "img = cv2.imread('shape.png', 0)\n",
    "ret, bin_img = cv2.threshold(img, 128, 255, cv2.THRESH_BINARY)\n",
    "labeled_img, cnt = labeling(bin_img, 100)\n",
    "for i in range(cnt):\n",
    "    cx, cy, area = calc_size(labeled_img, i+100)\n",
    "    print(cx, cy, area)"
   ]
  },
  {
   "cell_type": "markdown",
   "metadata": {},
   "source": [
    "### 주위 길이 계산"
   ]
  },
  {
   "cell_type": "code",
   "execution_count": null,
   "metadata": {},
   "outputs": [],
   "source": [
    "def trace(image_label, xs, ys):\n",
    "    length = 0\n",
    "    x, y =xs, ys\n",
    "    no = image_label[y,x+1]\n",
    "    vec = 5\n",
    "    \n",
    "    while True:\n",
    "        if (x==xs) & (y==ys) & (length !=0):\n",
    "            return length\n",
    "        image_label[y,x] = 255\n",
    "        \n",
    "        if vec ==3:\n",
    "            if (image_label[y, x+1] != no) & (image_label[y-1, x+1] == no):\n",
    "                x=x+1\n",
    "                y= y\n",
    "                length = length+1\n",
    "                vec = 0\n",
    "                continue\n",
    "            else:\n",
    "                vec = 4\n",
    "        if vec ==4:\n",
    "            if (image_label[y-1, x+1] != no) & (image_label[y-1, x] == no):\n",
    "                x=x+1\n",
    "                y= y-1\n",
    "                length = length+np.sqrt(2)\n",
    "                vec = 1\n",
    "                continue\n",
    "            else:\n",
    "                vec = 5\n",
    "        if vec ==5:\n",
    "            if (image_label[y-1, x] != no) & (image_label[y-1, x-1] == no):\n",
    "                x=x\n",
    "                y= y-1\n",
    "                length = length+1\n",
    "                vec = 2\n",
    "                continue\n",
    "            else:\n",
    "                vec = 6\n",
    "        if vec ==6:\n",
    "            if (image_label[y-1, x-1] != no) & (image_label[y, x-1] == no):\n",
    "                x=x-1\n",
    "                y= y-1\n",
    "                length = length+np.sqrt(2)\n",
    "                vec = 3\n",
    "                continue\n",
    "            else:\n",
    "                vec = 7\n",
    "        if vec ==7:\n",
    "            if (image_label[y, x-1] != no) & (image_label[y+1, x-1] == no):\n",
    "                x=x-1\n",
    "                y= y\n",
    "                length = length+1\n",
    "                vec = 4\n",
    "                continue\n",
    "            else:\n",
    "                vec = 0\n",
    "        if vec ==0:\n",
    "            if (image_label[y+1, x-1] != no) & (image_label[y+1, x] == no):\n",
    "                x=x-1\n",
    "                y= y+1\n",
    "                length = length+np.sqrt(2)\n",
    "                vec = 5\n",
    "                continue\n",
    "            else:\n",
    "                vec = 1\n",
    "        if vec ==1:\n",
    "            if (image_label[y+1, x] != no) & (image_label[y+1, x+1] == no):\n",
    "                x=x\n",
    "                y= y+1\n",
    "                length = length+1\n",
    "                vec = 6\n",
    "                continue\n",
    "            else:\n",
    "                vec = 2\n",
    "        if vec ==2:\n",
    "            if (image_label[y+1, x+1] != no) & (image_label[y, x+1] == no):\n",
    "                x=x+1\n",
    "                y= y+1\n",
    "                length = length+np.sqrt(2)\n",
    "                vec = 7\n",
    "                continue\n",
    "            else:\n",
    "                vec = 3"
   ]
  },
  {
   "cell_type": "code",
   "execution_count": null,
   "metadata": {},
   "outputs": [],
   "source": [
    "def calc_length(image_label, label):\n",
    "    height, width = image_label.shape\n",
    "    for y in range(height):\n",
    "        for x in range(width):\n",
    "            if image_label[y,x] == label:\n",
    "                length = trace(image_label, x-1, y)\n",
    "                return length"
   ]
  },
  {
   "cell_type": "code",
   "execution_count": null,
   "metadata": {},
   "outputs": [],
   "source": [
    "def features(image_label, cnt):\n",
    "    areas = []\n",
    "    centers = []\n",
    "    lengths = []\n",
    "    ratios = []\n",
    "    \n",
    "    for i in range(cnt):\n",
    "        cx, cy, area = calc_size(image_label, i+100)\n",
    "        centers.append((cx,cy))\n",
    "        areas.append(area)\n",
    "        print(i+100, cx, cy, area, end=\" \")\n",
    "        length = calc_length(image_label, i+100)\n",
    "        lengths.append(length)\n",
    "        ratio = 4*np.pi*area / (length*length)\n",
    "        ratios.append(ratio)\n",
    "        print(length, ratio)\n",
    "        \n",
    "    return (areas, centers, lengths, ratios)"
   ]
  },
  {
   "cell_type": "code",
   "execution_count": null,
   "metadata": {},
   "outputs": [],
   "source": [
    "img = cv2.imread('shape.png', 0)\n",
    "ret, bin_img = cv2.threshold(img, 128, 255, cv2.THRESH_BINARY)\n",
    "labeled_img, cnt = labeling(bin_img, 100)\n",
    "feat = features(labeled_img, cnt)"
   ]
  },
  {
   "cell_type": "markdown",
   "metadata": {},
   "source": [
    "### cv2.drawContours()"
   ]
  },
  {
   "cell_type": "code",
   "execution_count": 2,
   "metadata": {},
   "outputs": [],
   "source": [
    "import cv2\n",
    "import numpy as np\n",
    "import hanscv as hc\n",
    "\n",
    "img = cv2.imread('rectangle.jpg')\n",
    "imgray = cv2.cvtColor(img,cv2.COLOR_BGR2GRAY)\n",
    "\n",
    "ret, thresh = cv2.threshold(imgray,127,255,0)\n",
    "\n",
    "contours, hierachy = cv2.findContours(thresh,\n",
    "                                     cv2.RETR_TREE,\n",
    "                                     cv2.CHAIN_APPROX_SIMPLE)\n",
    "image = cv2.drawContours(img, contours, -1, (0,255,0), 3)\n",
    "\n",
    "hc.iwd('image',image)"
   ]
  },
  {
   "cell_type": "markdown",
   "metadata": {},
   "source": [
    "### Moments"
   ]
  },
  {
   "cell_type": "code",
   "execution_count": 11,
   "metadata": {},
   "outputs": [
    {
     "name": "stdout",
     "output_type": "stream",
     "text": [
      "<class 'dict'> \n",
      "\n",
      "{'m00': 16728.0, 'm10': 2308464.0, 'm01': 1555704.0, 'm20': 376580736.0, 'm11': 214687152.0, 'm02': 154053728.0, 'm30': 67979647872.0, 'm21': 35022008448.0, 'm12': 21259414464.0, 'm03': 16070422320.0, 'mu20': 58012704.0, 'mu11': 0.0, 'mu02': 9373256.0, 'mu30': 0.0, 'mu21': 0.0, 'mu12': 0.0, 'mu03': 0.0, 'nu20': 0.20731707317073172, 'nu11': 0.0, 'nu02': 0.0334967320261438, 'nu30': 0.0, 'nu21': 0.0, 'nu12': 0.0, 'nu03': 0.0} \n",
      "\n",
      "dict_items([('m00', 16728.0), ('m10', 2308464.0), ('m01', 1555704.0), ('m20', 376580736.0), ('m11', 214687152.0), ('m02', 154053728.0), ('m30', 67979647872.0), ('m21', 35022008448.0), ('m12', 21259414464.0), ('m03', 16070422320.0), ('mu20', 58012704.0), ('mu11', 0.0), ('mu02', 9373256.0), ('mu30', 0.0), ('mu21', 0.0), ('mu12', 0.0), ('mu03', 0.0), ('nu20', 0.20731707317073172), ('nu11', 0.0), ('nu02', 0.0334967320261438), ('nu30', 0.0), ('nu21', 0.0), ('nu12', 0.0), ('nu03', 0.0)])\n"
     ]
    }
   ],
   "source": [
    "import cv2\n",
    "import numpy as np\n",
    "\n",
    "img = cv2.imread('rectangle.jpg')\n",
    "imgray = cv2.cvtColor(img,cv2.COLOR_BGR2GRAY)\n",
    "\n",
    "ret, thresh = cv2.threshold(imgray,127,255,0)\n",
    "\n",
    "contours, hierachy = cv2.findContours(thresh,\n",
    "                                     cv2.RETR_TREE,\n",
    "                                     cv2.CHAIN_APPROX_SIMPLE)\n",
    "\n",
    "cnt = contours[0]\n",
    "M = cv2.moments(cnt)\n",
    "\n",
    "print(type(M),'\\n')\n",
    "print(M,'\\n')\n",
    "print(M.items())"
   ]
  },
  {
   "cell_type": "code",
   "execution_count": 12,
   "metadata": {},
   "outputs": [
    {
     "data": {
      "text/plain": [
       "16728.0"
      ]
     },
     "execution_count": 12,
     "metadata": {},
     "output_type": "execute_result"
    }
   ],
   "source": [
    "cv2.contourArea(cnt)"
   ]
  },
  {
   "cell_type": "code",
   "execution_count": 13,
   "metadata": {},
   "outputs": [
    {
     "data": {
      "text/plain": [
       "572.0"
      ]
     },
     "execution_count": 13,
     "metadata": {},
     "output_type": "execute_result"
    }
   ],
   "source": [
    "cv2.arcLength(cnt,True)"
   ]
  },
  {
   "cell_type": "code",
   "execution_count": 14,
   "metadata": {},
   "outputs": [
    {
     "data": {
      "text/plain": [
       "368.0"
      ]
     },
     "execution_count": 14,
     "metadata": {},
     "output_type": "execute_result"
    }
   ],
   "source": [
    "cv2.arcLength(cnt,False)"
   ]
  },
  {
   "cell_type": "markdown",
   "metadata": {},
   "source": [
    "### Contour Approximation"
   ]
  },
  {
   "cell_type": "markdown",
   "metadata": {},
   "source": [
    "## Bounding box"
   ]
  },
  {
   "cell_type": "markdown",
   "metadata": {},
   "source": [
    "### Bounding Rectangle"
   ]
  },
  {
   "cell_type": "markdown",
   "metadata": {},
   "source": [
    "### Rectangle, Circle, Ellipse"
   ]
  },
  {
   "cell_type": "code",
   "execution_count": 29,
   "metadata": {},
   "outputs": [
    {
     "data": {
      "image/png": "[encoded data removed]",
      "text/plain": [
       "<Figure size 432x288 with 2 Axes>"
      ]
     },
     "metadata": {},
     "output_type": "display_data"
    }
   ],
   "source": [
    "import cv2\n",
    "import numpy as np\n",
    "from matplotlib import pyplot as plt\n",
    "\n",
    "img = cv2.imread('lightning.png')\n",
    "img1 = img.copy()\n",
    "img2 = img.copy()\n",
    "\n",
    "imgray = cv2.cvtColor(img,cv2.COLOR_BGR2GRAY)\n",
    "ret, thresh = cv2.threshold(imgray,127,255,0)\n",
    "\n",
    "contours, hierachy = cv2.findContours(thresh,\n",
    "                                      cv2.RETR_TREE,\n",
    "                                      cv2.CHAIN_APPROX_SIMPLE)\n",
    "cnt = contours[1]\n",
    "\n",
    "x, y, w, h = cv2.boundingRect(cnt)\n",
    "img1 = cv2.rectangle(img1,(x,y),(x+w,y+h),(0,255,0),3)\n",
    "\n",
    "rect = cv2.minAreaRect(cnt)\n",
    "box = cv2.boxPoints(rect)\n",
    "box = np.int0(box)\n",
    "img1 = cv2.drawContours(img1, [box], 0, (0,0,255), 3)\n",
    "\n",
    "(x,y), radius = cv2.minEnclosingCircle(cnt)\n",
    "center = (int(x),int(y))\n",
    "radius = int(radius)\n",
    "img1 = cv2.circle(img1, center, radius, (255,255,0), 3)\n",
    "\n",
    "ellipse = cv2.fitEllipse(cnt)\n",
    "img1 = cv2.ellipse(img1, ellipse, (255,0,0),3)\n",
    "\n",
    "titles = ['Original','Result']\n",
    "images = [img, img1]\n",
    "\n",
    "for i in range(2):\n",
    "\n",
    "    \n",
    "plt.show()    "
   ]
  },
  {
   "cell_type": "markdown",
   "metadata": {},
   "source": [
    "### contour property"
   ]
  },
  {
   "cell_type": "markdown",
   "metadata": {},
   "source": [
    "## Convex Hull"
   ]
  },
  {
   "cell_type": "markdown",
   "metadata": {},
   "source": [
    "### Convex Hull"
   ]
  },
  {
   "cell_type": "code",
   "execution_count": 35,
   "metadata": {
    "scrolled": true
   },
   "outputs": [
    {
     "data": {
      "image/png": "[encoded data removed]",
      "text/plain": [
       "<Figure size 432x288 with 2 Axes>"
      ]
     },
     "metadata": {},
     "output_type": "display_data"
    }
   ],
   "source": [
    "import cv2\n",
    "import numpy as np\n",
    "from matplotlib import pyplot as plt\n",
    "\n",
    "img = cv2.imread('hand.png')\n",
    "img1 = img.copy()\n",
    "imgray = cv2.cvtColor(img,cv2.COLOR_BGR2GRAY)\n",
    "ret, thresh = cv2.threshold(imgray,127,255,0)\n",
    "\n",
    "contours, hierachy = cv2.findContours(thresh,\n",
    "                                      cv2.RETR_TREE,\n",
    "                                      cv2.CHAIN_APPROX_SIMPLE)\n",
    "\n",
    "cnt = contours[1]\n",
    "\n",
    "hull  = cv2.convexHull(cnt)\n",
    "\n",
    "cv2.drawContours(img1, [hull], 0, (0,255,0), 3)\n",
    "\n",
    "titles = ['Original', 'Convex Hull']\n",
    "images = [img, img1]\n",
    "\n",
    "for i in range(2):\n",
    "    plt.subplot(1,2,i+1), plt.title(titles[i]), plt.imshow(images[i])\n",
    "    plt.xticks([]), plt.yticks([])\n",
    "plt.show()"
   ]
  },
  {
   "cell_type": "markdown",
   "metadata": {},
   "source": [
    "### Cehcking Convexity"
   ]
  },
  {
   "cell_type": "code",
   "execution_count": 38,
   "metadata": {},
   "outputs": [
    {
     "data": {
      "text/plain": [
       "True"
      ]
     },
     "execution_count": 38,
     "metadata": {},
     "output_type": "execute_result"
    }
   ],
   "source": [
    "cv2.isContourConvex(contours[0])                       "
   ]
  },
  {
   "cell_type": "code",
   "execution_count": 39,
   "metadata": {},
   "outputs": [
    {
     "data": {
      "text/plain": [
       "False"
      ]
     },
     "execution_count": 39,
     "metadata": {},
     "output_type": "execute_result"
    }
   ],
   "source": [
    "cv2.isContourConvex(contours[1])      "
   ]
  },
  {
   "cell_type": "markdown",
   "metadata": {},
   "source": [
    "# p255~p267"
   ]
  },
  {
   "cell_type": "code",
   "execution_count": 49,
   "metadata": {},
   "outputs": [
    {
     "name": "stdout",
     "output_type": "stream",
     "text": [
      "6 [[[ 2 -1  1 -1]\n",
      "  [-1 -1 -1  0]\n",
      "  [ 4  0  3 -1]\n",
      "  [-1 -1 -1  2]\n",
      "  [-1  2  5 -1]\n",
      "  [-1 -1 -1  4]]]\n",
      "6 [[[ 2 -1  1 -1]\n",
      "  [-1 -1 -1  0]\n",
      "  [ 4  0  3 -1]\n",
      "  [-1 -1 -1  2]\n",
      "  [-1  2  5 -1]\n",
      "  [-1 -1 -1  4]]]\n"
     ]
    }
   ],
   "source": [
    "import cv2\n",
    "import numpy as np\n",
    "\n",
    "img = cv2.imread('shapes_donut.png')\n",
    "img2 = img.copy()\n",
    "\n",
    "imgray = cv2.cvtColor(img,cv2.COLOR_BGR2GRAY)\n",
    "ret, thresh = cv2.threshold(imgray, 127, 255, cv2.THRESH_BINARY_INV)\n",
    "\n",
    "contour, hierarchy = cv2.findContours(thresh, cv2.RETR_TREE,\n",
    "                                            cv2.CHAIN_APPROX_NONE)\n",
    "\n",
    "print(len(contour),hierarchy)\n",
    "\n",
    "contour2, hierarchy = cv2.findContours(thresh, cv2.RETR_TREE, cv2.CHAIN_APPROX_SIMPLE)\n",
    "\n",
    "print(len(contour2),hierarchy)\n",
    "\n",
    "cv2.drawContours(img, contour, -1, (0,255,0), 3)\n",
    "\n",
    "for idx, cont in enumerate(contour2):\n",
    "    color = [int(i) for i in np.random.randint(0,255,3)]\n",
    "    cv2.drawContours(img2,contour2,idx,color,3)\n",
    "    \n",
    "    cv2.putText(img2,str(idx),tuple(cont[0][0]),cv2.FONT_HERSHEY_PLAIN,1,(0,0,255))\n",
    "\n",
    "cv2.imshow('RETR_EXTERNAL',img)\n",
    "cv2.imshow('RETR_TREE',img2)\n",
    "cv2.waitKey(0)\n",
    "cv2.destroyAllWindows()"
   ]
  },
  {
   "cell_type": "code",
   "execution_count": null,
   "metadata": {},
   "outputs": [],
   "source": []
  }
 ],
 "metadata": {
  "kernelspec": {
   "display_name": "Python 3",
   "language": "python",
   "name": "python3"
  },
  "language_info": {
   "codemirror_mode": {
    "name": "ipython",
    "version": 3
   },
   "file_extension": ".py",
   "mimetype": "text/x-python",
   "name": "python",
   "nbconvert_exporter": "python",
   "pygments_lexer": "ipython3",
   "version": "3.7.6"
  },
  "toc": {
   "base_numbering": 1,
   "nav_menu": {},
   "number_sections": true,
   "sideBar": true,
   "skip_h1_title": false,
   "title_cell": "OpenCV",
   "title_sidebar": "OpenCV",
   "toc_cell": true,
   "toc_position": {
    "height": "997.188px",
    "left": "211px",
    "top": "115.413px",
    "width": "192.173px"
   },
   "toc_section_display": true,
   "toc_window_display": true
  },
  "varInspector": {
   "cols": {
    "lenName": 16,
    "lenType": 16,
    "lenVar": 40
   },
   "kernels_config": {
    "python": {
     "delete_cmd_postfix": "",
     "delete_cmd_prefix": "del ",
     "library": "var_list.py",
     "varRefreshCmd": "print(var_dic_list())"
    },
    "r": {
     "delete_cmd_postfix": ") ",
     "delete_cmd_prefix": "rm(",
     "library": "var_list.r",
     "varRefreshCmd": "cat(var_dic_list()) "
    }
   },
   "types_to_exclude": [
    "module",
    "function",
    "builtin_function_or_method",
    "instance",
    "_Feature"
   ],
   "window_display": false
  }
 },
 "nbformat": 4,
 "nbformat_minor": 4
}
